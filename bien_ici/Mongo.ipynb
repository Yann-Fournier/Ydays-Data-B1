{
 "cells": [
  {
   "cell_type": "code",
   "execution_count": 2,
   "metadata": {},
   "outputs": [
    {
     "data": {
      "text/plain": [
       "<pymongo.results.InsertManyResult at 0x11e56d4b0>"
      ]
     },
     "execution_count": 2,
     "metadata": {},
     "output_type": "execute_result"
    }
   ],
   "source": [
    "#brew services start mongodb-community@6.0\n",
    "#brew services stop mongodb-community@6.0\n",
    "#brew services restart mongodb-community@6.0\n",
    "\n",
    "#mongosh\n",
    "\n",
    "from pymongo import MongoClient\n",
    "import pandas as pd\n",
    "\n",
    "Bien_ici = pd.read_csv(\"BIEN_ICI.csv\")\n",
    "appartement= []\n",
    "\n",
    "# Provide the mongodb atlas url to connect python to mongodb using pymongo\n",
    "CONNECTION_STRING = \"mongodb://127.0.0.1:27017/?directConnection=true&serverSelectionTimeoutMS=2000&appName=mongosh+1.8.0\"\n",
    " \n",
    "# Create a connection using MongoClient. You can import MongoClient or use pymongo.MongoClient\n",
    "client = MongoClient(CONNECTION_STRING)\n",
    " \n",
    "# Create the database for our example (we will use the same database throughout the tutorial\n",
    "dbname = client[\"BIEN_ICI\"]\n",
    "\n",
    "# This creates a collection named Quotes in the QuoteToScrape database.\n",
    "collection_name = dbname[\"Appartement\"]\n",
    "\n",
    "for i in range(len(Bien_ici[\"Code Postal\"])):\n",
    "    Bon = True\n",
    "    try:\n",
    "        truc = int(Bien_ici[\"Code Postal\"][i])\n",
    "    except:\n",
    "        Bon = False\n",
    "    try:\n",
    "        truc = int(Bien_ici[\"Prix (€)\"][i])\n",
    "    except:\n",
    "        Bon = False\n",
    "    try:\n",
    "        truc = float(Bien_ici[\"Surface (m2)\"][i])\n",
    "    except:\n",
    "        Bon = False\n",
    "    try:\n",
    "        truc = int(Bien_ici[\"Prix du m2\"][i])\n",
    "    except:\n",
    "        Bon = False\n",
    "    try:\n",
    "        truc = int(Bien_ici[\"Nbr de Pieces\"][i])\n",
    "    except:\n",
    "        Bon = False\n",
    "    \n",
    "    if Bon == True :\n",
    "        appartement.append({\n",
    "            \"id\" : i,\n",
    "            \"Code Postal\" : str(Bien_ici[\"Code Postal\"][i]),\n",
    "            \"Prix (€)\" : Bien_ici[\"Prix (€)\"][i],\n",
    "            \"Surface (m2)\" : Bien_ici[\"Surface (m2)\"][i],\n",
    "            \"Prix du m2\" : Bien_ici[\"Prix du m2\"][i],\n",
    "            \"Nbr de Pieces\" :Bien_ici[\"Nbr de Pieces\"][i],\n",
    "        })\n",
    "\n",
    "collection_name.insert_many(appartement)"
   ]
  }
 ],
 "metadata": {
  "kernelspec": {
   "display_name": "Python 3",
   "language": "python",
   "name": "python3"
  },
  "language_info": {
   "codemirror_mode": {
    "name": "ipython",
    "version": 3
   },
   "file_extension": ".py",
   "mimetype": "text/x-python",
   "name": "python",
   "nbconvert_exporter": "python",
   "pygments_lexer": "ipython3",
   "version": "3.11.0"
  },
  "orig_nbformat": 4
 },
 "nbformat": 4,
 "nbformat_minor": 2
}
