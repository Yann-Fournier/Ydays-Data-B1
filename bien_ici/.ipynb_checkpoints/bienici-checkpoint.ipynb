{
 "cells": [
  {
   "cell_type": "code",
   "execution_count": 1,
   "metadata": {},
   "outputs": [
    {
     "name": "stdout",
     "output_type": "stream",
     "text": [
      "<class 'str'>\n"
     ]
    }
   ],
   "source": [
    "# Pour le lancer : streamlit run bienici.py\n",
    "import pandas as pd\n",
    "\n",
    "\n",
    "import pymongo\n",
    "client = pymongo.MongoClient('mongodb://127.0.0.1:27017/?directConnection=true&serverSelectionTimeoutMS=2000&appName=mongosh+1.8.0')\n",
    "sinfun = client.BIEN_ICI.Appartement\n",
    "sinfun.find_one()\n",
    "\n",
    "cursor = sinfun.find()\n",
    "entries = list(cursor)\n",
    "entries[:5]\n",
    "\n",
    "Maison = pd.DataFrame(entries)\n",
    "print(type(Maison[\"Prix du m2\"][5]))"
   ]
  },
  {
   "cell_type": "code",
   "execution_count": 2,
   "metadata": {},
   "outputs": [
    {
     "name": "stdout",
     "output_type": "stream",
     "text": [
      "<class 'list'>\n",
      "['92210', '92330', '92420', '92260', '92250', '92290', '92160', '92360', '92170', '92350', '92800', '92000', '92110', '92270', '92600', '92400', '92320', '92200', '92310', '92150', '92130', '92500', '92370', '92120', '92140', '92190', '92390', '92100', '92700', '92240', '92380', '92340', '92220', '92300', '92230', '92410']\n"
     ]
    }
   ],
   "source": [
    "codePostal = []\n",
    "contient = False\n",
    "print(type(codePostal))\n",
    "\n",
    "for i in range(len(Maison[\"Code Postal\"])):\n",
    "    codePostal.append(Maison[\"Code Postal\"][i])\n",
    "\n",
    "codePostal = list(set(codePostal))\n",
    "print(codePostal)"
   ]
  },
  {
   "cell_type": "code",
   "execution_count": 5,
   "metadata": {},
   "outputs": [
    {
     "data": {
      "image/png": "[encoded data removed]",
      "text/plain": [
       "<Figure size 640x480 with 1 Axes>"
      ]
     },
     "metadata": {},
     "output_type": "display_data"
    },
    {
     "name": "stderr",
     "output_type": "stream",
     "text": [
      "2023-05-02 10:26:00.495 \n",
      "  \u001b[33m\u001b[1mWarning:\u001b[0m to view this Streamlit app on a browser, run it with the following\n",
      "  command:\n",
      "\n",
      "    streamlit run /Users/yann/opt/anaconda3/lib/python3.9/site-packages/ipykernel_launcher.py [ARGUMENTS]\n"
     ]
    },
    {
     "data": {
      "application/vnd.plotly.v1+json": {
       "config": {
        "plotlyServerURL": "https://plot.ly"
       },
       "data": [
        {
         "coloraxis": "coloraxis",
         "geo": "geo",
         "geojson": {
          "features": [
           {
            "geometry": {
             "coordinates": [
              [
               [
                2.2842744091473,
                48.902285620694
               ],
               [
                2.2710639620218,
                48.898398213481
               ],
               [
                2.2537610153392,
                48.886891719068
               ],
               [
                2.2411672996089,
                48.890886559366
               ],
               [
                2.2337839378819,
                48.895671660315
               ],
               [
                2.2316290145216,
                48.900651830427
               ],
               [
                2.2582157919968,
                48.906076886413
               ],
               [
                2.2663940990819,
                48.906292729204
               ],
               [
                2.2759875959395,
                48.906675754828
               ],
               [
                2.2842744091473,
                48.902285620694
               ]
              ]
             ],
             "type": "Polygon"
            },
            "id": "92026",
            "properties": {
             "code": "92026",
             "nom": "Courbevoie"
            },
            "type": "Feature"
           },
           {
            "geometry": {
             "coordinates": [
              [
               [
                2.314145699673,
                48.822290535442
               ],
               [
                2.3318980606376,
                48.817010929642
               ],
               [
                2.3290632572873,
                48.813783346799
               ],
               [
                2.3190467533966,
                48.80995107629
               ],
               [
                2.3026851018086,
                48.811116810274
               ],
               [
                2.3001505122596,
                48.811347534043
               ],
               [
                2.314145699673,
                48.822290535442
               ]
              ]
             ],
             "type": "Polygon"
            },
            "id": "92049",
            "properties": {
             "code": "92049",
             "nom": "Montrouge"
            },
            "type": "Feature"
           },
           {
            "geometry": {
             "coordinates": [
              [
               [
                2.2055079612116,
                48.809200070282
               ],
               [
                2.2026391702069,
                48.798400652391
               ],
               [
                2.1829371404912,
                48.797227864577
               ],
               [
                2.1767433739305,
                48.814008838913
               ],
               [
                2.1785222082775,
                48.81485662027
               ],
               [
                2.1897735373152,
                48.815759946803
               ],
               [
                2.1970479300107,
                48.819085531359
               ],
               [
                2.2055079612116,
                48.809200070282
               ]
              ]
             ],
             "type": "Polygon"
            },
            "id": "92022",
            "properties": {
             "code": "92022",
             "nom": "Chaville"
            },
            "type": "Feature"
           },
           {
            "geometry": {
             "coordinates": [
              [
               [
                2.3284496727786,
                48.922759687341
               ],
               [
                2.3221581230236,
                48.932849430266
               ],
               [
                2.3146150568902,
                48.938374033325
               ],
               [
                2.3116681011903,
                48.947948907669
               ],
               [
                2.3269728001661,
                48.945361349484
               ],
               [
                2.3355682105858,
                48.940679976956
               ],
               [
                2.3363529889891,
                48.932347933816
               ],
               [
                2.3284496727786,
                48.922759687341
               ]
              ]
             ],
             "type": "Polygon"
            },
            "id": "92078",
            "properties": {
             "code": "92078",
             "nom": "Villeneuve-la-Garenne"
            },
            "type": "Feature"
           },
           {
            "geometry": {
             "coordinates": [
              [
               [
                2.2288438793787,
                48.774465449016
               ],
               [
                2.2374555044661,
                48.776297097556
               ],
               [
                2.2438118036027,
                48.773120247428
               ],
               [
                2.2599163159658,
                48.77322739964
               ],
               [
                2.2723861917258,
                48.777340616766
               ],
               [
                2.2795781166078,
                48.782487507987
               ],
               [
                2.2902548977764,
                48.766600144572
               ],
               [
                2.2911566022188,
                48.762018402653
               ],
               [
                2.2786189579814,
                48.760015845292
               ],
               [
                2.2761433268947,
                48.756655860398
               ],
               [
                2.2593929492592,
                48.761011671227
               ],
               [
                2.2476645497167,
                48.761102963541
               ],
               [
                2.2385923949602,
                48.766463677435
               ],
               [
                2.2328536167843,
                48.765986233987
               ],
               [
                2.2288438793787,
                48.774465449016
               ]
              ]
             ],
             "type": "Polygon"
            },
            "id": "92019",
            "properties": {
             "code": "92019",
             "nom": "Châtenay-Malabry"
            },
            "type": "Feature"
           },
           {
            "geometry": {
             "coordinates": [
              [
               [
                2.2844595717547,
                48.885639278202
               ],
               [
                2.2799493325675,
                48.878573123982
               ],
               [
                2.2584671711142,
                48.880387263086
               ],
               [
                2.2548171406686,
                48.874080881369
               ],
               [
                2.2457037884056,
                48.876459232476
               ],
               [
                2.2537610153392,
                48.886891719068
               ],
               [
                2.2710639620218,
                48.898398213481
               ],
               [
                2.2844595717547,
                48.885639278202
               ]
              ]
             ],
             "type": "Polygon"
            },
            "id": "92051",
            "properties": {
             "code": "92051",
             "nom": "Neuilly-sur-Seine"
            },
            "type": "Feature"
           },
           {
            "geometry": {
             "coordinates": [
              [
               [
                2.2236156896039,
                48.882763625779
               ],
               [
                2.2337839378819,
                48.895671660315
               ],
               [
                2.2411672996089,
                48.890886559366
               ],
               [
                2.2537610153392,
                48.886891719068
               ],
               [
                2.2457037884056,
                48.876459232476
               ],
               [
                2.2317363597469,
                48.86906858161
               ],
               [
                2.2341637892586,
                48.877730484583
               ],
               [
                2.2236156896039,
                48.882763625779
               ]
              ]
             ],
             "type": "Polygon"
            },
            "id": "92062",
            "properties": {
             "code": "92062",
             "nom": "Puteaux"
            },
            "type": "Feature"
           },
           {
            "geometry": {
             "coordinates": [
              [
               [
                2.2055079612116,
                48.809200070282
               ],
               [
                2.2203156949819,
                48.815545696912
               ],
               [
                2.2253321048442,
                48.823021690884
               ],
               [
                2.232638353852,
                48.822737823569
               ],
               [
                2.2361072489474,
                48.821548554448
               ],
               [
                2.2518651077193,
                48.816386741829
               ],
               [
                2.2521179650907,
                48.809106809788
               ],
               [
                2.2410673431056,
                48.801927382124
               ],
               [
                2.2367830737694,
                48.796128595014
               ],
               [
                2.2352046131447,
                48.786143087334
               ],
               [
                2.2266318840334,
                48.781582704918
               ],
               [
                2.223319655228,
                48.785943206962
               ],
               [
                2.2115088216259,
                48.788138691837
               ],
               [
                2.2026391702069,
                48.798400652391
               ],
               [
                2.2055079612116,
                48.809200070282
               ]
              ]
             ],
             "type": "Polygon"
            },
            "id": "92048",
            "properties": {
             "code": "92048",
             "nom": "Meudon"
            },
            "type": "Feature"
           },
           {
            "geometry": {
             "coordinates": [
              [
               [
                2.1742824947702,
                48.89906687854
               ],
               [
                2.2005910092695,
                48.908679329899
               ],
               [
                2.22039813682,
                48.92061341599
               ],
               [
                2.2239863988558,
                48.918098848983
               ],
               [
                2.2290994841599,
                48.906027032338
               ],
               [
                2.2316290145216,
                48.900651830427
               ],
               [
                2.2337839378819,
                48.895671660315
               ],
               [
                2.2236156896039,
                48.882763625779
               ],
               [
                2.2077596044291,
                48.874229260014
               ],
               [
                2.1888907001829,
                48.885910447962
               ],
               [
                2.1693486998328,
                48.895814931109
               ],
               [
                2.1742824947702,
                48.89906687854
               ]
              ]
             ],
             "type": "Polygon"
            },
            "id": "92050",
            "properties": {
             "code": "92050",
             "nom": "Nanterre"
            },
            "type": "Feature"
           },
           {
            "geometry": {
             "coordinates": [
              [
               [
                2.2730393470107,
                48.933837649862
               ],
               [
                2.2733089177318,
                48.926851735489
               ],
               [
                2.2678818361228,
                48.925058765541
               ],
               [
                2.2574119250256,
                48.913558720877
               ],
               [
                2.2498359039144,
                48.912658069894
               ],
               [
                2.2290994841599,
                48.906027032338
               ],
               [
                2.2239863988558,
                48.918098848983
               ],
               [
                2.22039813682,
                48.92061341599
               ],
               [
                2.231140371461,
                48.927732507513
               ],
               [
                2.2475913259381,
                48.93673190225
               ],
               [
                2.2559162610429,
                48.937147189735
               ],
               [
                2.2730393470107,
                48.933837649862
               ]
              ]
             ],
             "type": "Polygon"
            },
            "id": "92025",
            "properties": {
             "code": "92025",
             "nom": "Colombes"
            },
            "type": "Feature"
           },
           {
            "geometry": {
             "coordinates": [
              [
               [
                2.3190467533966,
                48.80995107629
               ],
               [
                2.3259523315527,
                48.806660660142
               ],
               [
                2.3239420483049,
                48.801553330356
               ],
               [
                2.3186962648686,
                48.787997409568
               ],
               [
                2.309697914061,
                48.78489766196
               ],
               [
                2.3033091819404,
                48.785399331235
               ],
               [
                2.29616260049,
                48.795759120121
               ],
               [
                2.2922240553765,
                48.795971505031
               ],
               [
                2.3026851018086,
                48.811116810274
               ],
               [
                2.3190467533966,
                48.80995107629
               ]
              ]
             ],
             "type": "Polygon"
            },
            "id": "92007",
            "properties": {
             "code": "92007",
             "nom": "Bagneux"
            },
            "type": "Feature"
           },
           {
            "geometry": {
             "coordinates": [
              [
               [
                2.2288438793787,
                48.774465449016
               ],
               [
                2.2265538842831,
                48.776101996393
               ],
               [
                2.2266318840334,
                48.781582704918
               ],
               [
                2.2352046131447,
                48.786143087334
               ],
               [
                2.2367830737694,
                48.796128595014
               ],
               [
                2.2410673431056,
                48.801927382124
               ],
               [
                2.2521179650907,
                48.809106809788
               ],
               [
                2.2518651077193,
                48.816386741829
               ],
               [
                2.2725609364554,
                48.814399077465
               ],
               [
                2.2781833296731,
                48.814248778193
               ],
               [
                2.279911190584,
                48.810917949841
               ],
               [
                2.27468571206,
                48.803802699513
               ],
               [
                2.2721929313396,
                48.794125236405
               ],
               [
                2.2717219005527,
                48.790518428571
               ],
               [
                2.250617048338,
                48.78458401047
               ],
               [
                2.2374555044661,
                48.776297097556
               ],
               [
                2.2288438793787,
                48.774465449016
               ]
              ]
             ],
             "type": "Polygon"
            },
            "id": "92023",
            "properties": {
             "code": "92023",
             "nom": "Clamart"
            },
            "type": "Feature"
           },
           {
            "geometry": {
             "coordinates": [
              [
               [
                2.1872152944551,
                48.837730034175
               ],
               [
                2.1807966813571,
                48.830624257448
               ],
               [
                2.164345762437,
                48.822891664685
               ],
               [
                2.1507472904881,
                48.818843890003
               ],
               [
                2.1514696650673,
                48.821406018964
               ],
               [
                2.1516307625728,
                48.829502642515
               ],
               [
                2.1553593613806,
                48.836222305401
               ],
               [
                2.1666241523509,
                48.837742139543
               ],
               [
                2.1872152944551,
                48.837730034175
               ]
              ]
             ],
             "type": "Polygon"
            },
            "id": "92047",
            "properties": {
             "code": "92047",
             "nom": "Marnes-la-Coquette"
            },
            "type": "Feature"
           },
           {
            "geometry": {
             "coordinates": [
              [
               [
                2.1693486998328,
                48.895814931109
               ],
               [
                2.1888907001829,
                48.885910447962
               ],
               [
                2.2077596044291,
                48.874229260014
               ],
               [
                2.211237554024,
                48.867935165388
               ],
               [
                2.2035582947436,
                48.860628271362
               ],
               [
                2.197861054676,
                48.85476232433
               ],
               [
                2.1826126110062,
                48.851561694542
               ],
               [
                2.159873072577,
                48.847719436355
               ],
               [
                2.1543056853939,
                48.853048595931
               ],
               [
                2.153758803524,
                48.864400185419
               ],
               [
                2.1503913622101,
                48.870861640994
               ],
               [
                2.15831848289,
                48.880606413153
               ],
               [
                2.1693486998328,
                48.895814931109
               ]
              ]
             ],
             "type": "Polygon"
            },
            "id": "92063",
            "properties": {
             "code": "92063",
             "nom": "Rueil-Malmaison"
            },
            "type": "Feature"
           },
           {
            "geometry": {
             "coordinates": [
              [
               [
                2.225670292257,
                48.859404562396
               ],
               [
                2.2242191058804,
                48.853516917557
               ],
               [
                2.2240496902355,
                48.835149697724
               ],
               [
                2.2211803346028,
                48.827865817554
               ],
               [
                2.1994332651192,
                48.829785415549
               ],
               [
                2.1807966813571,
                48.830624257448
               ],
               [
                2.1872152944551,
                48.837730034175
               ],
               [
                2.1938597835456,
                48.840564881451
               ],
               [
                2.2012514987459,
                48.849191818784
               ],
               [
                2.197861054676,
                48.85476232433
               ],
               [
                2.2035582947436,
                48.860628271362
               ],
               [
                2.225670292257,
                48.859404562396
               ]
              ]
             ],
             "type": "Polygon"
            },
            "id": "92064",
            "properties": {
             "code": "92064",
             "nom": "Saint-Cloud"
            },
            "type": "Feature"
           },
           {
            "geometry": {
             "coordinates": [
              [
               [
                2.2290994841599,
                48.906027032338
               ],
               [
                2.2498359039144,
                48.912658069894
               ],
               [
                2.2574119250256,
                48.913558720877
               ],
               [
                2.2582157919968,
                48.906076886413
               ],
               [
                2.2316290145216,
                48.900651830427
               ],
               [
                2.2290994841599,
                48.906027032338
               ]
              ]
             ],
             "type": "Polygon"
            },
            "id": "92035",
            "properties": {
             "code": "92035",
             "nom": "Garenne-Colombes"
            },
            "type": "Feature"
           },
           {
            "geometry": {
             "coordinates": [
              [
               [
                2.2730393470107,
                48.933837649862
               ],
               [
                2.2559162610429,
                48.937147189735
               ],
               [
                2.2475913259381,
                48.93673190225
               ],
               [
                2.2687285425666,
                48.946575058002
               ],
               [
                2.2909694895753,
                48.950965864655
               ],
               [
                2.3116681011903,
                48.947948907669
               ],
               [
                2.3146150568902,
                48.938374033325
               ],
               [
                2.3221581230236,
                48.932849430266
               ],
               [
                2.3284496727786,
                48.922759687341
               ],
               [
                2.3220153126855,
                48.918671199655
               ],
               [
                2.3177488401014,
                48.920817897531
               ],
               [
                2.3008304863433,
                48.914709405165
               ],
               [
                2.2859480936706,
                48.922680314727
               ],
               [
                2.2843703357838,
                48.930235818272
               ],
               [
                2.2730393470107,
                48.933837649862
               ]
              ]
             ],
             "type": "Polygon"
            },
            "id": "92036",
            "properties": {
             "code": "92036",
             "nom": "Gennevilliers"
            },
            "type": "Feature"
           },
           {
            "geometry": {
             "coordinates": [
              [
               [
                2.2374555044661,
                48.776297097556
               ],
               [
                2.250617048338,
                48.78458401047
               ],
               [
                2.2717219005527,
                48.790518428571
               ],
               [
                2.2819845942728,
                48.783163964499
               ],
               [
                2.2795781166078,
                48.782487507987
               ],
               [
                2.2723861917258,
                48.777340616766
               ],
               [
                2.2599163159658,
                48.77322739964
               ],
               [
                2.2438118036027,
                48.773120247428
               ],
               [
                2.2374555044661,
                48.776297097556
               ]
              ]
             ],
             "type": "Polygon"
            },
            "id": "92060",
            "properties": {
             "code": "92060",
             "nom": "Plessis-Robinson"
            },
            "type": "Feature"
           },
           {
            "geometry": {
             "coordinates": [
              [
               [
                2.2844595717547,
                48.885639278202
               ],
               [
                2.2710639620218,
                48.898398213481
               ],
               [
                2.2842744091473,
                48.902285620694
               ],
               [
                2.2873947275247,
                48.903641514692
               ],
               [
                2.3037743623516,
                48.894153778949
               ],
               [
                2.2844595717547,
                48.885639278202
               ]
              ]
             ],
             "type": "Polygon"
            },
            "id": "92044",
            "properties": {
             "code": "92044",
             "nom": "Levallois-Perret"
            },
            "type": "Feature"
           },
           {
            "geometry": {
             "coordinates": [
              [
               [
                2.1612775429708,
                48.812781582172
               ],
               [
                2.1507472904881,
                48.818843890003
               ],
               [
                2.164345762437,
                48.822891664685
               ],
               [
                2.1807966813571,
                48.830624257448
               ],
               [
                2.1994332651192,
                48.829785415549
               ],
               [
                2.1963481868208,
                48.821981384064
               ],
               [
                2.1785222082775,
                48.81485662027
               ],
               [
                2.1767433739305,
                48.814008838913
               ],
               [
                2.1693154925823,
                48.815912765582
               ],
               [
                2.1612775429708,
                48.812781582172
               ]
              ]
             ],
             "type": "Polygon"
            },
            "id": "92077",
            "properties": {
             "code": "92077",
             "nom": "Ville-d'Avray"
            },
            "type": "Feature"
           },
           {
            "geometry": {
             "coordinates": [
              [
               [
                2.3198871747441,
                48.90045978209
               ],
               [
                2.3037743623516,
                48.894153778949
               ],
               [
                2.2873947275247,
                48.903641514692
               ],
               [
                2.3137528853936,
                48.914015216252
               ],
               [
                2.3198871747441,
                48.90045978209
               ]
              ]
             ],
             "type": "Polygon"
            },
            "id": "92024",
            "properties": {
             "code": "92024",
             "nom": "Clichy"
            },
            "type": "Feature"
           },
           {
            "geometry": {
             "coordinates": [
              [
               [
                2.2819845942728,
                48.783163964499
               ],
               [
                2.2717219005527,
                48.790518428571
               ],
               [
                2.2721929313396,
                48.794125236405
               ],
               [
                2.2922240553765,
                48.795971505031
               ],
               [
                2.29616260049,
                48.795759120121
               ],
               [
                2.3033091819404,
                48.785399331235
               ],
               [
                2.2819845942728,
                48.783163964499
               ]
              ]
             ],
             "type": "Polygon"
            },
            "id": "92032",
            "properties": {
             "code": "92032",
             "nom": "Fontenay-aux-Roses"
            },
            "type": "Feature"
           },
           {
            "geometry": {
             "coordinates": [
              [
               [
                2.2781833296731,
                48.814248778193
               ],
               [
                2.2725609364554,
                48.814399077465
               ],
               [
                2.2786541423079,
                48.818411302219
               ],
               [
                2.2804640409911,
                48.825921287497
               ],
               [
                2.2893937776751,
                48.828352646104
               ],
               [
                2.3013154184885,
                48.825125760842
               ],
               [
                2.2916862510232,
                48.818034122525
               ],
               [
                2.2781833296731,
                48.814248778193
               ]
              ]
             ],
             "type": "Polygon"
            },
            "id": "92075",
            "properties": {
             "code": "92075",
             "nom": "Vanves"
            },
            "type": "Feature"
           },
           {
            "geometry": {
             "coordinates": [
              [
               [
                2.3001505122596,
                48.811347534043
               ],
               [
                2.3026851018086,
                48.811116810274
               ],
               [
                2.2922240553765,
                48.795971505031
               ],
               [
                2.2721929313396,
                48.794125236405
               ],
               [
                2.27468571206,
                48.803802699513
               ],
               [
                2.279911190584,
                48.810917949841
               ],
               [
                2.2920048721548,
                48.809713940981
               ],
               [
                2.3001505122596,
                48.811347534043
               ]
              ]
             ],
             "type": "Polygon"
            },
            "id": "92020",
            "properties": {
             "code": "92020",
             "nom": "Châtillon"
            },
            "type": "Feature"
           },
           {
            "geometry": {
             "coordinates": [
              [
               [
                2.2236156896039,
                48.882763625779
               ],
               [
                2.2341637892586,
                48.877730484583
               ],
               [
                2.2317363597469,
                48.86906858161
               ],
               [
                2.225670292257,
                48.859404562396
               ],
               [
                2.2035582947436,
                48.860628271362
               ],
               [
                2.211237554024,
                48.867935165388
               ],
               [
                2.2077596044291,
                48.874229260014
               ],
               [
                2.2236156896039,
                48.882763625779
               ]
              ]
             ],
             "type": "Polygon"
            },
            "id": "92073",
            "properties": {
             "code": "92073",
             "nom": "Suresnes"
            },
            "type": "Feature"
           },
           {
            "geometry": {
             "coordinates": [
              [
               [
                2.3258147798433,
                48.781908297526
               ],
               [
                2.3199219497403,
                48.770716717176
               ],
               [
                2.3124381271337,
                48.772163320624
               ],
               [
                2.3142751147243,
                48.776823882747
               ],
               [
                2.309697914061,
                48.78489766196
               ],
               [
                2.3186962648686,
                48.787997409568
               ],
               [
                2.3258147798433,
                48.781908297526
               ]
              ]
             ],
             "type": "Polygon"
            },
            "id": "92014",
            "properties": {
             "code": "92014",
             "nom": "Bourg-la-Reine"
            },
            "type": "Feature"
           },
           {
            "geometry": {
             "coordinates": [
              [
               [
                2.148481478956,
                48.828486428999
               ],
               [
                2.1458671766002,
                48.836895096745
               ],
               [
                2.1532113486874,
                48.848852456588
               ],
               [
                2.159873072577,
                48.847719436355
               ],
               [
                2.1826126110062,
                48.851561694542
               ],
               [
                2.1790201156323,
                48.844128033677
               ],
               [
                2.1666241523509,
                48.837742139543
               ],
               [
                2.1553593613806,
                48.836222305401
               ],
               [
                2.1516307625728,
                48.829502642515
               ],
               [
                2.1514696650673,
                48.821406018964
               ],
               [
                2.148481478956,
                48.828486428999
               ]
              ]
             ],
             "type": "Polygon"
            },
            "id": "92076",
            "properties": {
             "code": "92076",
             "nom": "Vaucresson"
            },
            "type": "Feature"
           },
           {
            "geometry": {
             "coordinates": [
              [
               [
                2.309697914061,
                48.78489766196
               ],
               [
                2.3142751147243,
                48.776823882747
               ],
               [
                2.3124381271337,
                48.772163320624
               ],
               [
                2.3054409625983,
                48.769014432104
               ],
               [
                2.2902548977764,
                48.766600144572
               ],
               [
                2.2795781166078,
                48.782487507987
               ],
               [
                2.2819845942728,
                48.783163964499
               ],
               [
                2.3033091819404,
                48.785399331235
               ],
               [
                2.309697914061,
                48.78489766196
               ]
              ]
             ],
             "type": "Polygon"
            },
            "id": "92071",
            "properties": {
             "code": "92071",
             "nom": "Sceaux"
            },
            "type": "Feature"
           },
           {
            "geometry": {
             "coordinates": [
              [
               [
                2.2582157919968,
                48.906076886413
               ],
               [
                2.2574119250256,
                48.913558720877
               ],
               [
                2.2678818361228,
                48.925058765541
               ],
               [
                2.2733089177318,
                48.926851735489
               ],
               [
                2.276868225636,
                48.916249772776
               ],
               [
                2.2663940990819,
                48.906292729204
               ],
               [
                2.2582157919968,
                48.906076886413
               ]
              ]
             ],
             "type": "Polygon"
            },
            "id": "92009",
            "properties": {
             "code": "92009",
             "nom": "Bois-Colombes"
            },
            "type": "Feature"
           },
           {
            "geometry": {
             "coordinates": [
              [
               [
                2.197861054676,
                48.85476232433
               ],
               [
                2.2012514987459,
                48.849191818784
               ],
               [
                2.1938597835456,
                48.840564881451
               ],
               [
                2.1872152944551,
                48.837730034175
               ],
               [
                2.1666241523509,
                48.837742139543
               ],
               [
                2.1790201156323,
                48.844128033677
               ],
               [
                2.1826126110062,
                48.851561694542
               ],
               [
                2.197861054676,
                48.85476232433
               ]
              ]
             ],
             "type": "Polygon"
            },
            "id": "92033",
            "properties": {
             "code": "92033",
             "nom": "Garches"
            },
            "type": "Feature"
           },
           {
            "geometry": {
             "coordinates": [
              [
               [
                2.2242191058804,
                48.853516917557
               ],
               [
                2.2506124417162,
                48.845554851211
               ],
               [
                2.2551442384175,
                48.834809549369
               ],
               [
                2.2627915245265,
                48.833923373524
               ],
               [
                2.25169395441,
                48.825751017648
               ],
               [
                2.2361072489474,
                48.821548554448
               ],
               [
                2.232638353852,
                48.822737823569
               ],
               [
                2.2240496902355,
                48.835149697724
               ],
               [
                2.2242191058804,
                48.853516917557
               ]
              ]
             ],
             "type": "Polygon"
            },
            "id": "92012",
            "properties": {
             "code": "92012",
             "nom": "Boulogne-Billancourt"
            },
            "type": "Feature"
           },
           {
            "geometry": {
             "coordinates": [
              [
               [
                2.2627915245265,
                48.833923373524
               ],
               [
                2.2727931901868,
                48.827920084226
               ],
               [
                2.2790519306533,
                48.832489952145
               ],
               [
                2.2893937776751,
                48.828352646104
               ],
               [
                2.2804640409911,
                48.825921287497
               ],
               [
                2.2786541423079,
                48.818411302219
               ],
               [
                2.2725609364554,
                48.814399077465
               ],
               [
                2.2518651077193,
                48.816386741829
               ],
               [
                2.2361072489474,
                48.821548554448
               ],
               [
                2.25169395441,
                48.825751017648
               ],
               [
                2.2627915245265,
                48.833923373524
               ]
              ]
             ],
             "type": "Polygon"
            },
            "id": "92040",
            "properties": {
             "code": "92040",
             "nom": "Issy-les-Moulineaux"
            },
            "type": "Feature"
           },
           {
            "geometry": {
             "coordinates": [
              [
               [
                2.3001505122596,
                48.811347534043
               ],
               [
                2.2920048721548,
                48.809713940981
               ],
               [
                2.279911190584,
                48.810917949841
               ],
               [
                2.2781833296731,
                48.814248778193
               ],
               [
                2.2916862510232,
                48.818034122525
               ],
               [
                2.3013154184885,
                48.825125760842
               ],
               [
                2.314145699673,
                48.822290535442
               ],
               [
                2.3001505122596,
                48.811347534043
               ]
              ]
             ],
             "type": "Polygon"
            },
            "id": "92046",
            "properties": {
             "code": "92046",
             "nom": "Malakoff"
            },
            "type": "Feature"
           },
           {
            "geometry": {
             "coordinates": [
              [
               [
                2.2902548977764,
                48.766600144572
               ],
               [
                2.3054409625983,
                48.769014432104
               ],
               [
                2.3124381271337,
                48.772163320624
               ],
               [
                2.3199219497403,
                48.770716717176
               ],
               [
                2.3158780366085,
                48.766766737767
               ],
               [
                2.3102224901101,
                48.75695290327
               ],
               [
                2.3207207141635,
                48.74875804931
               ],
               [
                2.3162448752028,
                48.741982183131
               ],
               [
                2.3132939902039,
                48.730280485815
               ],
               [
                2.3038400608379,
                48.72948996497
               ],
               [
                2.2983820323129,
                48.738637828397
               ],
               [
                2.2802904545364,
                48.733011078618
               ],
               [
                2.274512055777,
                48.74071589805
               ],
               [
                2.2853936451259,
                48.747508493238
               ],
               [
                2.2761433268947,
                48.756655860398
               ],
               [
                2.2786189579814,
                48.760015845292
               ],
               [
                2.2911566022188,
                48.762018402653
               ],
               [
                2.2902548977764,
                48.766600144572
               ]
              ]
             ],
             "type": "Polygon"
            },
            "id": "92002",
            "properties": {
             "code": "92002",
             "nom": "Antony"
            },
            "type": "Feature"
           },
           {
            "geometry": {
             "coordinates": [
              [
               [
                2.2730393470107,
                48.933837649862
               ],
               [
                2.2843703357838,
                48.930235818272
               ],
               [
                2.2859480936706,
                48.922680314727
               ],
               [
                2.3008304863433,
                48.914709405165
               ],
               [
                2.3177488401014,
                48.920817897531
               ],
               [
                2.3220153126855,
                48.918671199655
               ],
               [
                2.3198186224138,
                48.915937453257
               ],
               [
                2.3137528853936,
                48.914015216252
               ],
               [
                2.2873947275247,
                48.903641514692
               ],
               [
                2.2842744091473,
                48.902285620694
               ],
               [
                2.2759875959395,
                48.906675754828
               ],
               [
                2.2663940990819,
                48.906292729204
               ],
               [
                2.276868225636,
                48.916249772776
               ],
               [
                2.2733089177318,
                48.926851735489
               ],
               [
                2.2730393470107,
                48.933837649862
               ]
              ]
             ],
             "type": "Polygon"
            },
            "id": "92004",
            "properties": {
             "code": "92004",
             "nom": "Asnières-sur-Seine"
            },
            "type": "Feature"
           },
           {
            "geometry": {
             "coordinates": [
              [
               [
                2.2055079612116,
                48.809200070282
               ],
               [
                2.1970479300107,
                48.819085531359
               ],
               [
                2.1897735373152,
                48.815759946803
               ],
               [
                2.1785222082775,
                48.81485662027
               ],
               [
                2.1963481868208,
                48.821981384064
               ],
               [
                2.1994332651192,
                48.829785415549
               ],
               [
                2.2211803346028,
                48.827865817554
               ],
               [
                2.2240496902355,
                48.835149697724
               ],
               [
                2.232638353852,
                48.822737823569
               ],
               [
                2.2253321048442,
                48.823021690884
               ],
               [
                2.2203156949819,
                48.815545696912
               ],
               [
                2.2055079612116,
                48.809200070282
               ]
              ]
             ],
             "type": "Polygon"
            },
            "id": "92072",
            "properties": {
             "code": "92072",
             "nom": "Sèvres"
            },
            "type": "Feature"
           }
          ],
          "type": "FeatureCollection"
         },
         "hovertemplate": "code=%{location}<br>Moyenne=%{z}<extra></extra>",
         "locations": [
          "92210",
          "92330",
          "92420",
          "92260",
          "92250",
          "92290",
          "92160",
          "92360",
          "92170",
          "92350",
          "92800",
          "92000",
          "92110",
          "92270",
          "92600",
          "92400",
          "92320",
          "92200",
          "92310",
          "92150",
          "92130",
          "92500",
          "92370",
          "92120",
          "92140",
          "92190",
          "92390",
          "92100",
          "92700",
          "92240",
          "92380",
          "92340",
          "92220",
          "92300",
          "92230",
          "92410"
         ],
         "name": "",
         "type": "choropleth",
         "z": [
          7252.964285714285,
          7806.45,
          6191.666666666667,
          4739.205882352941,
          7654.509433962264,
          5495.1875,
          4806.13,
          3769.2631578947367,
          7449.295774647887,
          5276.605263157895,
          8264.925925925925,
          5962.526315789473,
          7458.957142857143,
          6649.271186440678,
          6667.038793103448,
          7437.705128205128,
          6132.375,
          9392.972222222223,
          5891.222222222223,
          7470.0526315789475,
          7996.909090909091,
          5899.111111111111,
          6349.863636363636,
          7216.246153846154,
          6117.177215189873,
          6256.137931034483,
          4327.346153846154,
          8975.606741573034,
          5647.703030303031,
          6887.266666666666,
          6441.529411764706,
          5754.541666666667,
          5994.294117647059,
          7887.705882352941,
          5002.5,
          6534.75
         ]
        }
       ],
       "layout": {
        "coloraxis": {
         "cmax": 100,
         "cmin": 0,
         "colorbar": {
          "dtick": 5,
          "len": 200,
          "lenmode": "pixels",
          "thickness": 20,
          "thicknessmode": "pixels",
          "ticks": "outside",
          "title": {
           "text": "Moyenne"
          },
          "y": 0.8,
          "yanchor": "top"
         },
         "colorscale": [
          [
           0,
           "#440154"
          ],
          [
           0.1111111111111111,
           "#482878"
          ],
          [
           0.2222222222222222,
           "#3e4989"
          ],
          [
           0.3333333333333333,
           "#31688e"
          ],
          [
           0.4444444444444444,
           "#26828e"
          ],
          [
           0.5555555555555556,
           "#1f9e89"
          ],
          [
           0.6666666666666666,
           "#35b779"
          ],
          [
           0.7777777777777778,
           "#6ece58"
          ],
          [
           0.8888888888888888,
           "#b5de2b"
          ],
          [
           1,
           "#fde725"
          ]
         ]
        },
        "geo": {
         "center": {},
         "domain": {
          "x": [
           0,
           1
          ],
          "y": [
           0,
           1
          ]
         }
        },
        "legend": {
         "tracegroupgap": 0
        },
        "margin": {
         "b": 0,
         "l": 0,
         "r": 0,
         "t": 0
        },
        "template": {
         "data": {
          "candlestick": [
           {
            "decreasing": {
             "line": {
              "color": "#000033"
             }
            },
            "increasing": {
             "line": {
              "color": "#000032"
             }
            },
            "type": "candlestick"
           }
          ],
          "contour": [
           {
            "colorscale": [
             [
              0,
              "#000011"
             ],
             [
              0.1111111111111111,
              "#000012"
             ],
             [
              0.2222222222222222,
              "#000013"
             ],
             [
              0.3333333333333333,
              "#000014"
             ],
             [
              0.4444444444444444,
              "#000015"
             ],
             [
              0.5555555555555556,
              "#000016"
             ],
             [
              0.6666666666666666,
              "#000017"
             ],
             [
              0.7777777777777778,
              "#000018"
             ],
             [
              0.8888888888888888,
              "#000019"
             ],
             [
              1,
              "#000020"
             ]
            ],
            "type": "contour"
           }
          ],
          "contourcarpet": [
           {
            "colorscale": [
             [
              0,
              "#000011"
             ],
             [
              0.1111111111111111,
              "#000012"
             ],
             [
              0.2222222222222222,
              "#000013"
             ],
             [
              0.3333333333333333,
              "#000014"
             ],
             [
              0.4444444444444444,
              "#000015"
             ],
             [
              0.5555555555555556,
              "#000016"
             ],
             [
              0.6666666666666666,
              "#000017"
             ],
             [
              0.7777777777777778,
              "#000018"
             ],
             [
              0.8888888888888888,
              "#000019"
             ],
             [
              1,
              "#000020"
             ]
            ],
            "type": "contourcarpet"
           }
          ],
          "heatmap": [
           {
            "colorscale": [
             [
              0,
              "#000011"
             ],
             [
              0.1111111111111111,
              "#000012"
             ],
             [
              0.2222222222222222,
              "#000013"
             ],
             [
              0.3333333333333333,
              "#000014"
             ],
             [
              0.4444444444444444,
              "#000015"
             ],
             [
              0.5555555555555556,
              "#000016"
             ],
             [
              0.6666666666666666,
              "#000017"
             ],
             [
              0.7777777777777778,
              "#000018"
             ],
             [
              0.8888888888888888,
              "#000019"
             ],
             [
              1,
              "#000020"
             ]
            ],
            "type": "heatmap"
           }
          ],
          "histogram2d": [
           {
            "colorscale": [
             [
              0,
              "#000011"
             ],
             [
              0.1111111111111111,
              "#000012"
             ],
             [
              0.2222222222222222,
              "#000013"
             ],
             [
              0.3333333333333333,
              "#000014"
             ],
             [
              0.4444444444444444,
              "#000015"
             ],
             [
              0.5555555555555556,
              "#000016"
             ],
             [
              0.6666666666666666,
              "#000017"
             ],
             [
              0.7777777777777778,
              "#000018"
             ],
             [
              0.8888888888888888,
              "#000019"
             ],
             [
              1,
              "#000020"
             ]
            ],
            "type": "histogram2d"
           }
          ],
          "icicle": [
           {
            "textfont": {
             "color": "white"
            },
            "type": "icicle"
           }
          ],
          "sankey": [
           {
            "textfont": {
             "color": "#000036"
            },
            "type": "sankey"
           }
          ],
          "scatter": [
           {
            "marker": {
             "line": {
              "width": 0
             }
            },
            "type": "scatter"
           }
          ],
          "table": [
           {
            "cells": {
             "fill": {
              "color": "#000038"
             },
             "font": {
              "color": "#000037"
             },
             "line": {
              "color": "#000039"
             }
            },
            "header": {
             "fill": {
              "color": "#000040"
             },
             "font": {
              "color": "#000036"
             },
             "line": {
              "color": "#000039"
             }
            },
            "type": "table"
           }
          ],
          "waterfall": [
           {
            "connector": {
             "line": {
              "color": "#000036",
              "width": 2
             }
            },
            "decreasing": {
             "marker": {
              "color": "#000033"
             }
            },
            "increasing": {
             "marker": {
              "color": "#000032"
             }
            },
            "totals": {
             "marker": {
              "color": "#000034"
             }
            },
            "type": "waterfall"
           }
          ]
         },
         "layout": {
          "coloraxis": {
           "colorscale": [
            [
             0,
             "#000011"
            ],
            [
             0.1111111111111111,
             "#000012"
            ],
            [
             0.2222222222222222,
             "#000013"
            ],
            [
             0.3333333333333333,
             "#000014"
            ],
            [
             0.4444444444444444,
             "#000015"
            ],
            [
             0.5555555555555556,
             "#000016"
            ],
            [
             0.6666666666666666,
             "#000017"
            ],
            [
             0.7777777777777778,
             "#000018"
            ],
            [
             0.8888888888888888,
             "#000019"
            ],
            [
             1,
             "#000020"
            ]
           ]
          },
          "colorscale": {
           "diverging": [
            [
             0,
             "#000021"
            ],
            [
             0.1,
             "#000022"
            ],
            [
             0.2,
             "#000023"
            ],
            [
             0.3,
             "#000024"
            ],
            [
             0.4,
             "#000025"
            ],
            [
             0.5,
             "#000026"
            ],
            [
             0.6,
             "#000027"
            ],
            [
             0.7,
             "#000028"
            ],
            [
             0.8,
             "#000029"
            ],
            [
             0.9,
             "#000030"
            ],
            [
             1,
             "#000031"
            ]
           ],
           "sequential": [
            [
             0,
             "#000011"
            ],
            [
             0.1111111111111111,
             "#000012"
            ],
            [
             0.2222222222222222,
             "#000013"
            ],
            [
             0.3333333333333333,
             "#000014"
            ],
            [
             0.4444444444444444,
             "#000015"
            ],
            [
             0.5555555555555556,
             "#000016"
            ],
            [
             0.6666666666666666,
             "#000017"
            ],
            [
             0.7777777777777778,
             "#000018"
            ],
            [
             0.8888888888888888,
             "#000019"
            ],
            [
             1,
             "#000020"
            ]
           ],
           "sequentialminus": [
            [
             0,
             "#000011"
            ],
            [
             0.1111111111111111,
             "#000012"
            ],
            [
             0.2222222222222222,
             "#000013"
            ],
            [
             0.3333333333333333,
             "#000014"
            ],
            [
             0.4444444444444444,
             "#000015"
            ],
            [
             0.5555555555555556,
             "#000016"
            ],
            [
             0.6666666666666666,
             "#000017"
            ],
            [
             0.7777777777777778,
             "#000018"
            ],
            [
             0.8888888888888888,
             "#000019"
            ],
            [
             1,
             "#000020"
            ]
           ]
          },
          "colorway": [
           "#000001",
           "#000002",
           "#000003",
           "#000004",
           "#000005",
           "#000006",
           "#000007",
           "#000008",
           "#000009",
           "#000010"
          ]
         }
        }
       }
      },
      "text/html": [
       "<div>                            <div id=\"2f908803-4863-4eb9-b28f-064ce197ca0e\" class=\"plotly-graph-div\" style=\"height:525px; width:100%;\"></div>            <script type=\"text/javascript\">                require([\"plotly\"], function(Plotly) {                    window.PLOTLYENV=window.PLOTLYENV || {};                                    if (document.getElementById(\"2f908803-4863-4eb9-b28f-064ce197ca0e\")) {                    Plotly.newPlot(                        \"2f908803-4863-4eb9-b28f-064ce197ca0e\",                        [{\"coloraxis\":\"coloraxis\",\"geo\":\"geo\",\"geojson\":{\"type\":\"FeatureCollection\",\"features\":[{\"type\":\"Feature\",\"geometry\":{\"type\":\"Polygon\",\"coordinates\":[[[2.2842744091473,48.902285620694],[2.2710639620218,48.898398213481],[2.2537610153392,48.886891719068],[2.2411672996089,48.890886559366],[2.2337839378819,48.895671660315],[2.2316290145216,48.900651830427],[2.2582157919968,48.906076886413],[2.2663940990819,48.906292729204],[2.2759875959395,48.906675754828],[2.2842744091473,48.902285620694]]]},\"properties\":{\"code\":\"92026\",\"nom\":\"Courbevoie\"},\"id\":\"92026\"},{\"type\":\"Feature\",\"geometry\":{\"type\":\"Polygon\",\"coordinates\":[[[2.314145699673,48.822290535442],[2.3318980606376,48.817010929642],[2.3290632572873,48.813783346799],[2.3190467533966,48.80995107629],[2.3026851018086,48.811116810274],[2.3001505122596,48.811347534043],[2.314145699673,48.822290535442]]]},\"properties\":{\"code\":\"92049\",\"nom\":\"Montrouge\"},\"id\":\"92049\"},{\"type\":\"Feature\",\"geometry\":{\"type\":\"Polygon\",\"coordinates\":[[[2.2055079612116,48.809200070282],[2.2026391702069,48.798400652391],[2.1829371404912,48.797227864577],[2.1767433739305,48.814008838913],[2.1785222082775,48.81485662027],[2.1897735373152,48.815759946803],[2.1970479300107,48.819085531359],[2.2055079612116,48.809200070282]]]},\"properties\":{\"code\":\"92022\",\"nom\":\"Chaville\"},\"id\":\"92022\"},{\"type\":\"Feature\",\"geometry\":{\"type\":\"Polygon\",\"coordinates\":[[[2.3284496727786,48.922759687341],[2.3221581230236,48.932849430266],[2.3146150568902,48.938374033325],[2.3116681011903,48.947948907669],[2.3269728001661,48.945361349484],[2.3355682105858,48.940679976956],[2.3363529889891,48.932347933816],[2.3284496727786,48.922759687341]]]},\"properties\":{\"code\":\"92078\",\"nom\":\"Villeneuve-la-Garenne\"},\"id\":\"92078\"},{\"type\":\"Feature\",\"geometry\":{\"type\":\"Polygon\",\"coordinates\":[[[2.2288438793787,48.774465449016],[2.2374555044661,48.776297097556],[2.2438118036027,48.773120247428],[2.2599163159658,48.77322739964],[2.2723861917258,48.777340616766],[2.2795781166078,48.782487507987],[2.2902548977764,48.766600144572],[2.2911566022188,48.762018402653],[2.2786189579814,48.760015845292],[2.2761433268947,48.756655860398],[2.2593929492592,48.761011671227],[2.2476645497167,48.761102963541],[2.2385923949602,48.766463677435],[2.2328536167843,48.765986233987],[2.2288438793787,48.774465449016]]]},\"properties\":{\"code\":\"92019\",\"nom\":\"Ch\\u00e2tenay-Malabry\"},\"id\":\"92019\"},{\"type\":\"Feature\",\"geometry\":{\"type\":\"Polygon\",\"coordinates\":[[[2.2844595717547,48.885639278202],[2.2799493325675,48.878573123982],[2.2584671711142,48.880387263086],[2.2548171406686,48.874080881369],[2.2457037884056,48.876459232476],[2.2537610153392,48.886891719068],[2.2710639620218,48.898398213481],[2.2844595717547,48.885639278202]]]},\"properties\":{\"code\":\"92051\",\"nom\":\"Neuilly-sur-Seine\"},\"id\":\"92051\"},{\"type\":\"Feature\",\"geometry\":{\"type\":\"Polygon\",\"coordinates\":[[[2.2236156896039,48.882763625779],[2.2337839378819,48.895671660315],[2.2411672996089,48.890886559366],[2.2537610153392,48.886891719068],[2.2457037884056,48.876459232476],[2.2317363597469,48.86906858161],[2.2341637892586,48.877730484583],[2.2236156896039,48.882763625779]]]},\"properties\":{\"code\":\"92062\",\"nom\":\"Puteaux\"},\"id\":\"92062\"},{\"type\":\"Feature\",\"geometry\":{\"type\":\"Polygon\",\"coordinates\":[[[2.2055079612116,48.809200070282],[2.2203156949819,48.815545696912],[2.2253321048442,48.823021690884],[2.232638353852,48.822737823569],[2.2361072489474,48.821548554448],[2.2518651077193,48.816386741829],[2.2521179650907,48.809106809788],[2.2410673431056,48.801927382124],[2.2367830737694,48.796128595014],[2.2352046131447,48.786143087334],[2.2266318840334,48.781582704918],[2.223319655228,48.785943206962],[2.2115088216259,48.788138691837],[2.2026391702069,48.798400652391],[2.2055079612116,48.809200070282]]]},\"properties\":{\"code\":\"92048\",\"nom\":\"Meudon\"},\"id\":\"92048\"},{\"type\":\"Feature\",\"geometry\":{\"type\":\"Polygon\",\"coordinates\":[[[2.1742824947702,48.89906687854],[2.2005910092695,48.908679329899],[2.22039813682,48.92061341599],[2.2239863988558,48.918098848983],[2.2290994841599,48.906027032338],[2.2316290145216,48.900651830427],[2.2337839378819,48.895671660315],[2.2236156896039,48.882763625779],[2.2077596044291,48.874229260014],[2.1888907001829,48.885910447962],[2.1693486998328,48.895814931109],[2.1742824947702,48.89906687854]]]},\"properties\":{\"code\":\"92050\",\"nom\":\"Nanterre\"},\"id\":\"92050\"},{\"type\":\"Feature\",\"geometry\":{\"type\":\"Polygon\",\"coordinates\":[[[2.2730393470107,48.933837649862],[2.2733089177318,48.926851735489],[2.2678818361228,48.925058765541],[2.2574119250256,48.913558720877],[2.2498359039144,48.912658069894],[2.2290994841599,48.906027032338],[2.2239863988558,48.918098848983],[2.22039813682,48.92061341599],[2.231140371461,48.927732507513],[2.2475913259381,48.93673190225],[2.2559162610429,48.937147189735],[2.2730393470107,48.933837649862]]]},\"properties\":{\"code\":\"92025\",\"nom\":\"Colombes\"},\"id\":\"92025\"},{\"type\":\"Feature\",\"geometry\":{\"type\":\"Polygon\",\"coordinates\":[[[2.3190467533966,48.80995107629],[2.3259523315527,48.806660660142],[2.3239420483049,48.801553330356],[2.3186962648686,48.787997409568],[2.309697914061,48.78489766196],[2.3033091819404,48.785399331235],[2.29616260049,48.795759120121],[2.2922240553765,48.795971505031],[2.3026851018086,48.811116810274],[2.3190467533966,48.80995107629]]]},\"properties\":{\"code\":\"92007\",\"nom\":\"Bagneux\"},\"id\":\"92007\"},{\"type\":\"Feature\",\"geometry\":{\"type\":\"Polygon\",\"coordinates\":[[[2.2288438793787,48.774465449016],[2.2265538842831,48.776101996393],[2.2266318840334,48.781582704918],[2.2352046131447,48.786143087334],[2.2367830737694,48.796128595014],[2.2410673431056,48.801927382124],[2.2521179650907,48.809106809788],[2.2518651077193,48.816386741829],[2.2725609364554,48.814399077465],[2.2781833296731,48.814248778193],[2.279911190584,48.810917949841],[2.27468571206,48.803802699513],[2.2721929313396,48.794125236405],[2.2717219005527,48.790518428571],[2.250617048338,48.78458401047],[2.2374555044661,48.776297097556],[2.2288438793787,48.774465449016]]]},\"properties\":{\"code\":\"92023\",\"nom\":\"Clamart\"},\"id\":\"92023\"},{\"type\":\"Feature\",\"geometry\":{\"type\":\"Polygon\",\"coordinates\":[[[2.1872152944551,48.837730034175],[2.1807966813571,48.830624257448],[2.164345762437,48.822891664685],[2.1507472904881,48.818843890003],[2.1514696650673,48.821406018964],[2.1516307625728,48.829502642515],[2.1553593613806,48.836222305401],[2.1666241523509,48.837742139543],[2.1872152944551,48.837730034175]]]},\"properties\":{\"code\":\"92047\",\"nom\":\"Marnes-la-Coquette\"},\"id\":\"92047\"},{\"type\":\"Feature\",\"geometry\":{\"type\":\"Polygon\",\"coordinates\":[[[2.1693486998328,48.895814931109],[2.1888907001829,48.885910447962],[2.2077596044291,48.874229260014],[2.211237554024,48.867935165388],[2.2035582947436,48.860628271362],[2.197861054676,48.85476232433],[2.1826126110062,48.851561694542],[2.159873072577,48.847719436355],[2.1543056853939,48.853048595931],[2.153758803524,48.864400185419],[2.1503913622101,48.870861640994],[2.15831848289,48.880606413153],[2.1693486998328,48.895814931109]]]},\"properties\":{\"code\":\"92063\",\"nom\":\"Rueil-Malmaison\"},\"id\":\"92063\"},{\"type\":\"Feature\",\"geometry\":{\"type\":\"Polygon\",\"coordinates\":[[[2.225670292257,48.859404562396],[2.2242191058804,48.853516917557],[2.2240496902355,48.835149697724],[2.2211803346028,48.827865817554],[2.1994332651192,48.829785415549],[2.1807966813571,48.830624257448],[2.1872152944551,48.837730034175],[2.1938597835456,48.840564881451],[2.2012514987459,48.849191818784],[2.197861054676,48.85476232433],[2.2035582947436,48.860628271362],[2.225670292257,48.859404562396]]]},\"properties\":{\"code\":\"92064\",\"nom\":\"Saint-Cloud\"},\"id\":\"92064\"},{\"type\":\"Feature\",\"geometry\":{\"type\":\"Polygon\",\"coordinates\":[[[2.2290994841599,48.906027032338],[2.2498359039144,48.912658069894],[2.2574119250256,48.913558720877],[2.2582157919968,48.906076886413],[2.2316290145216,48.900651830427],[2.2290994841599,48.906027032338]]]},\"properties\":{\"code\":\"92035\",\"nom\":\"Garenne-Colombes\"},\"id\":\"92035\"},{\"type\":\"Feature\",\"geometry\":{\"type\":\"Polygon\",\"coordinates\":[[[2.2730393470107,48.933837649862],[2.2559162610429,48.937147189735],[2.2475913259381,48.93673190225],[2.2687285425666,48.946575058002],[2.2909694895753,48.950965864655],[2.3116681011903,48.947948907669],[2.3146150568902,48.938374033325],[2.3221581230236,48.932849430266],[2.3284496727786,48.922759687341],[2.3220153126855,48.918671199655],[2.3177488401014,48.920817897531],[2.3008304863433,48.914709405165],[2.2859480936706,48.922680314727],[2.2843703357838,48.930235818272],[2.2730393470107,48.933837649862]]]},\"properties\":{\"code\":\"92036\",\"nom\":\"Gennevilliers\"},\"id\":\"92036\"},{\"type\":\"Feature\",\"geometry\":{\"type\":\"Polygon\",\"coordinates\":[[[2.2374555044661,48.776297097556],[2.250617048338,48.78458401047],[2.2717219005527,48.790518428571],[2.2819845942728,48.783163964499],[2.2795781166078,48.782487507987],[2.2723861917258,48.777340616766],[2.2599163159658,48.77322739964],[2.2438118036027,48.773120247428],[2.2374555044661,48.776297097556]]]},\"properties\":{\"code\":\"92060\",\"nom\":\"Plessis-Robinson\"},\"id\":\"92060\"},{\"type\":\"Feature\",\"geometry\":{\"type\":\"Polygon\",\"coordinates\":[[[2.2844595717547,48.885639278202],[2.2710639620218,48.898398213481],[2.2842744091473,48.902285620694],[2.2873947275247,48.903641514692],[2.3037743623516,48.894153778949],[2.2844595717547,48.885639278202]]]},\"properties\":{\"code\":\"92044\",\"nom\":\"Levallois-Perret\"},\"id\":\"92044\"},{\"type\":\"Feature\",\"geometry\":{\"type\":\"Polygon\",\"coordinates\":[[[2.1612775429708,48.812781582172],[2.1507472904881,48.818843890003],[2.164345762437,48.822891664685],[2.1807966813571,48.830624257448],[2.1994332651192,48.829785415549],[2.1963481868208,48.821981384064],[2.1785222082775,48.81485662027],[2.1767433739305,48.814008838913],[2.1693154925823,48.815912765582],[2.1612775429708,48.812781582172]]]},\"properties\":{\"code\":\"92077\",\"nom\":\"Ville-d'Avray\"},\"id\":\"92077\"},{\"type\":\"Feature\",\"geometry\":{\"type\":\"Polygon\",\"coordinates\":[[[2.3198871747441,48.90045978209],[2.3037743623516,48.894153778949],[2.2873947275247,48.903641514692],[2.3137528853936,48.914015216252],[2.3198871747441,48.90045978209]]]},\"properties\":{\"code\":\"92024\",\"nom\":\"Clichy\"},\"id\":\"92024\"},{\"type\":\"Feature\",\"geometry\":{\"type\":\"Polygon\",\"coordinates\":[[[2.2819845942728,48.783163964499],[2.2717219005527,48.790518428571],[2.2721929313396,48.794125236405],[2.2922240553765,48.795971505031],[2.29616260049,48.795759120121],[2.3033091819404,48.785399331235],[2.2819845942728,48.783163964499]]]},\"properties\":{\"code\":\"92032\",\"nom\":\"Fontenay-aux-Roses\"},\"id\":\"92032\"},{\"type\":\"Feature\",\"geometry\":{\"type\":\"Polygon\",\"coordinates\":[[[2.2781833296731,48.814248778193],[2.2725609364554,48.814399077465],[2.2786541423079,48.818411302219],[2.2804640409911,48.825921287497],[2.2893937776751,48.828352646104],[2.3013154184885,48.825125760842],[2.2916862510232,48.818034122525],[2.2781833296731,48.814248778193]]]},\"properties\":{\"code\":\"92075\",\"nom\":\"Vanves\"},\"id\":\"92075\"},{\"type\":\"Feature\",\"geometry\":{\"type\":\"Polygon\",\"coordinates\":[[[2.3001505122596,48.811347534043],[2.3026851018086,48.811116810274],[2.2922240553765,48.795971505031],[2.2721929313396,48.794125236405],[2.27468571206,48.803802699513],[2.279911190584,48.810917949841],[2.2920048721548,48.809713940981],[2.3001505122596,48.811347534043]]]},\"properties\":{\"code\":\"92020\",\"nom\":\"Ch\\u00e2tillon\"},\"id\":\"92020\"},{\"type\":\"Feature\",\"geometry\":{\"type\":\"Polygon\",\"coordinates\":[[[2.2236156896039,48.882763625779],[2.2341637892586,48.877730484583],[2.2317363597469,48.86906858161],[2.225670292257,48.859404562396],[2.2035582947436,48.860628271362],[2.211237554024,48.867935165388],[2.2077596044291,48.874229260014],[2.2236156896039,48.882763625779]]]},\"properties\":{\"code\":\"92073\",\"nom\":\"Suresnes\"},\"id\":\"92073\"},{\"type\":\"Feature\",\"geometry\":{\"type\":\"Polygon\",\"coordinates\":[[[2.3258147798433,48.781908297526],[2.3199219497403,48.770716717176],[2.3124381271337,48.772163320624],[2.3142751147243,48.776823882747],[2.309697914061,48.78489766196],[2.3186962648686,48.787997409568],[2.3258147798433,48.781908297526]]]},\"properties\":{\"code\":\"92014\",\"nom\":\"Bourg-la-Reine\"},\"id\":\"92014\"},{\"type\":\"Feature\",\"geometry\":{\"type\":\"Polygon\",\"coordinates\":[[[2.148481478956,48.828486428999],[2.1458671766002,48.836895096745],[2.1532113486874,48.848852456588],[2.159873072577,48.847719436355],[2.1826126110062,48.851561694542],[2.1790201156323,48.844128033677],[2.1666241523509,48.837742139543],[2.1553593613806,48.836222305401],[2.1516307625728,48.829502642515],[2.1514696650673,48.821406018964],[2.148481478956,48.828486428999]]]},\"properties\":{\"code\":\"92076\",\"nom\":\"Vaucresson\"},\"id\":\"92076\"},{\"type\":\"Feature\",\"geometry\":{\"type\":\"Polygon\",\"coordinates\":[[[2.309697914061,48.78489766196],[2.3142751147243,48.776823882747],[2.3124381271337,48.772163320624],[2.3054409625983,48.769014432104],[2.2902548977764,48.766600144572],[2.2795781166078,48.782487507987],[2.2819845942728,48.783163964499],[2.3033091819404,48.785399331235],[2.309697914061,48.78489766196]]]},\"properties\":{\"code\":\"92071\",\"nom\":\"Sceaux\"},\"id\":\"92071\"},{\"type\":\"Feature\",\"geometry\":{\"type\":\"Polygon\",\"coordinates\":[[[2.2582157919968,48.906076886413],[2.2574119250256,48.913558720877],[2.2678818361228,48.925058765541],[2.2733089177318,48.926851735489],[2.276868225636,48.916249772776],[2.2663940990819,48.906292729204],[2.2582157919968,48.906076886413]]]},\"properties\":{\"code\":\"92009\",\"nom\":\"Bois-Colombes\"},\"id\":\"92009\"},{\"type\":\"Feature\",\"geometry\":{\"type\":\"Polygon\",\"coordinates\":[[[2.197861054676,48.85476232433],[2.2012514987459,48.849191818784],[2.1938597835456,48.840564881451],[2.1872152944551,48.837730034175],[2.1666241523509,48.837742139543],[2.1790201156323,48.844128033677],[2.1826126110062,48.851561694542],[2.197861054676,48.85476232433]]]},\"properties\":{\"code\":\"92033\",\"nom\":\"Garches\"},\"id\":\"92033\"},{\"type\":\"Feature\",\"geometry\":{\"type\":\"Polygon\",\"coordinates\":[[[2.2242191058804,48.853516917557],[2.2506124417162,48.845554851211],[2.2551442384175,48.834809549369],[2.2627915245265,48.833923373524],[2.25169395441,48.825751017648],[2.2361072489474,48.821548554448],[2.232638353852,48.822737823569],[2.2240496902355,48.835149697724],[2.2242191058804,48.853516917557]]]},\"properties\":{\"code\":\"92012\",\"nom\":\"Boulogne-Billancourt\"},\"id\":\"92012\"},{\"type\":\"Feature\",\"geometry\":{\"type\":\"Polygon\",\"coordinates\":[[[2.2627915245265,48.833923373524],[2.2727931901868,48.827920084226],[2.2790519306533,48.832489952145],[2.2893937776751,48.828352646104],[2.2804640409911,48.825921287497],[2.2786541423079,48.818411302219],[2.2725609364554,48.814399077465],[2.2518651077193,48.816386741829],[2.2361072489474,48.821548554448],[2.25169395441,48.825751017648],[2.2627915245265,48.833923373524]]]},\"properties\":{\"code\":\"92040\",\"nom\":\"Issy-les-Moulineaux\"},\"id\":\"92040\"},{\"type\":\"Feature\",\"geometry\":{\"type\":\"Polygon\",\"coordinates\":[[[2.3001505122596,48.811347534043],[2.2920048721548,48.809713940981],[2.279911190584,48.810917949841],[2.2781833296731,48.814248778193],[2.2916862510232,48.818034122525],[2.3013154184885,48.825125760842],[2.314145699673,48.822290535442],[2.3001505122596,48.811347534043]]]},\"properties\":{\"code\":\"92046\",\"nom\":\"Malakoff\"},\"id\":\"92046\"},{\"type\":\"Feature\",\"geometry\":{\"type\":\"Polygon\",\"coordinates\":[[[2.2902548977764,48.766600144572],[2.3054409625983,48.769014432104],[2.3124381271337,48.772163320624],[2.3199219497403,48.770716717176],[2.3158780366085,48.766766737767],[2.3102224901101,48.75695290327],[2.3207207141635,48.74875804931],[2.3162448752028,48.741982183131],[2.3132939902039,48.730280485815],[2.3038400608379,48.72948996497],[2.2983820323129,48.738637828397],[2.2802904545364,48.733011078618],[2.274512055777,48.74071589805],[2.2853936451259,48.747508493238],[2.2761433268947,48.756655860398],[2.2786189579814,48.760015845292],[2.2911566022188,48.762018402653],[2.2902548977764,48.766600144572]]]},\"properties\":{\"code\":\"92002\",\"nom\":\"Antony\"},\"id\":\"92002\"},{\"type\":\"Feature\",\"geometry\":{\"type\":\"Polygon\",\"coordinates\":[[[2.2730393470107,48.933837649862],[2.2843703357838,48.930235818272],[2.2859480936706,48.922680314727],[2.3008304863433,48.914709405165],[2.3177488401014,48.920817897531],[2.3220153126855,48.918671199655],[2.3198186224138,48.915937453257],[2.3137528853936,48.914015216252],[2.2873947275247,48.903641514692],[2.2842744091473,48.902285620694],[2.2759875959395,48.906675754828],[2.2663940990819,48.906292729204],[2.276868225636,48.916249772776],[2.2733089177318,48.926851735489],[2.2730393470107,48.933837649862]]]},\"properties\":{\"code\":\"92004\",\"nom\":\"Asni\\u00e8res-sur-Seine\"},\"id\":\"92004\"},{\"type\":\"Feature\",\"geometry\":{\"type\":\"Polygon\",\"coordinates\":[[[2.2055079612116,48.809200070282],[2.1970479300107,48.819085531359],[2.1897735373152,48.815759946803],[2.1785222082775,48.81485662027],[2.1963481868208,48.821981384064],[2.1994332651192,48.829785415549],[2.2211803346028,48.827865817554],[2.2240496902355,48.835149697724],[2.232638353852,48.822737823569],[2.2253321048442,48.823021690884],[2.2203156949819,48.815545696912],[2.2055079612116,48.809200070282]]]},\"properties\":{\"code\":\"92072\",\"nom\":\"S\\u00e8vres\"},\"id\":\"92072\"}]},\"hovertemplate\":\"code=%{location}<br>Moyenne=%{z}<extra></extra>\",\"locations\":[\"92210\",\"92330\",\"92420\",\"92260\",\"92250\",\"92290\",\"92160\",\"92360\",\"92170\",\"92350\",\"92800\",\"92000\",\"92110\",\"92270\",\"92600\",\"92400\",\"92320\",\"92200\",\"92310\",\"92150\",\"92130\",\"92500\",\"92370\",\"92120\",\"92140\",\"92190\",\"92390\",\"92100\",\"92700\",\"92240\",\"92380\",\"92340\",\"92220\",\"92300\",\"92230\",\"92410\"],\"name\":\"\",\"z\":[7252.964285714285,7806.45,6191.666666666667,4739.205882352941,7654.509433962264,5495.1875,4806.13,3769.2631578947367,7449.295774647887,5276.605263157895,8264.925925925925,5962.526315789473,7458.957142857143,6649.271186440678,6667.038793103448,7437.705128205128,6132.375,9392.972222222223,5891.222222222223,7470.0526315789475,7996.909090909091,5899.111111111111,6349.863636363636,7216.246153846154,6117.177215189873,6256.137931034483,4327.346153846154,8975.606741573034,5647.703030303031,6887.266666666666,6441.529411764706,5754.541666666667,5994.294117647059,7887.705882352941,5002.5,6534.75],\"type\":\"choropleth\"}],                        {\"template\":{\"data\":{\"candlestick\":[{\"decreasing\":{\"line\":{\"color\":\"#000033\"}},\"increasing\":{\"line\":{\"color\":\"#000032\"}},\"type\":\"candlestick\"}],\"contourcarpet\":[{\"colorscale\":[[0.0,\"#000011\"],[0.1111111111111111,\"#000012\"],[0.2222222222222222,\"#000013\"],[0.3333333333333333,\"#000014\"],[0.4444444444444444,\"#000015\"],[0.5555555555555556,\"#000016\"],[0.6666666666666666,\"#000017\"],[0.7777777777777778,\"#000018\"],[0.8888888888888888,\"#000019\"],[1.0,\"#000020\"]],\"type\":\"contourcarpet\"}],\"contour\":[{\"colorscale\":[[0.0,\"#000011\"],[0.1111111111111111,\"#000012\"],[0.2222222222222222,\"#000013\"],[0.3333333333333333,\"#000014\"],[0.4444444444444444,\"#000015\"],[0.5555555555555556,\"#000016\"],[0.6666666666666666,\"#000017\"],[0.7777777777777778,\"#000018\"],[0.8888888888888888,\"#000019\"],[1.0,\"#000020\"]],\"type\":\"contour\"}],\"heatmap\":[{\"colorscale\":[[0.0,\"#000011\"],[0.1111111111111111,\"#000012\"],[0.2222222222222222,\"#000013\"],[0.3333333333333333,\"#000014\"],[0.4444444444444444,\"#000015\"],[0.5555555555555556,\"#000016\"],[0.6666666666666666,\"#000017\"],[0.7777777777777778,\"#000018\"],[0.8888888888888888,\"#000019\"],[1.0,\"#000020\"]],\"type\":\"heatmap\"}],\"histogram2d\":[{\"colorscale\":[[0.0,\"#000011\"],[0.1111111111111111,\"#000012\"],[0.2222222222222222,\"#000013\"],[0.3333333333333333,\"#000014\"],[0.4444444444444444,\"#000015\"],[0.5555555555555556,\"#000016\"],[0.6666666666666666,\"#000017\"],[0.7777777777777778,\"#000018\"],[0.8888888888888888,\"#000019\"],[1.0,\"#000020\"]],\"type\":\"histogram2d\"}],\"icicle\":[{\"textfont\":{\"color\":\"white\"},\"type\":\"icicle\"}],\"sankey\":[{\"textfont\":{\"color\":\"#000036\"},\"type\":\"sankey\"}],\"scatter\":[{\"marker\":{\"line\":{\"width\":0}},\"type\":\"scatter\"}],\"table\":[{\"cells\":{\"fill\":{\"color\":\"#000038\"},\"font\":{\"color\":\"#000037\"},\"line\":{\"color\":\"#000039\"}},\"header\":{\"fill\":{\"color\":\"#000040\"},\"font\":{\"color\":\"#000036\"},\"line\":{\"color\":\"#000039\"}},\"type\":\"table\"}],\"waterfall\":[{\"connector\":{\"line\":{\"color\":\"#000036\",\"width\":2}},\"decreasing\":{\"marker\":{\"color\":\"#000033\"}},\"increasing\":{\"marker\":{\"color\":\"#000032\"}},\"totals\":{\"marker\":{\"color\":\"#000034\"}},\"type\":\"waterfall\"}]},\"layout\":{\"coloraxis\":{\"colorscale\":[[0.0,\"#000011\"],[0.1111111111111111,\"#000012\"],[0.2222222222222222,\"#000013\"],[0.3333333333333333,\"#000014\"],[0.4444444444444444,\"#000015\"],[0.5555555555555556,\"#000016\"],[0.6666666666666666,\"#000017\"],[0.7777777777777778,\"#000018\"],[0.8888888888888888,\"#000019\"],[1.0,\"#000020\"]]},\"colorscale\":{\"diverging\":[[0.0,\"#000021\"],[0.1,\"#000022\"],[0.2,\"#000023\"],[0.3,\"#000024\"],[0.4,\"#000025\"],[0.5,\"#000026\"],[0.6,\"#000027\"],[0.7,\"#000028\"],[0.8,\"#000029\"],[0.9,\"#000030\"],[1.0,\"#000031\"]],\"sequential\":[[0.0,\"#000011\"],[0.1111111111111111,\"#000012\"],[0.2222222222222222,\"#000013\"],[0.3333333333333333,\"#000014\"],[0.4444444444444444,\"#000015\"],[0.5555555555555556,\"#000016\"],[0.6666666666666666,\"#000017\"],[0.7777777777777778,\"#000018\"],[0.8888888888888888,\"#000019\"],[1.0,\"#000020\"]],\"sequentialminus\":[[0.0,\"#000011\"],[0.1111111111111111,\"#000012\"],[0.2222222222222222,\"#000013\"],[0.3333333333333333,\"#000014\"],[0.4444444444444444,\"#000015\"],[0.5555555555555556,\"#000016\"],[0.6666666666666666,\"#000017\"],[0.7777777777777778,\"#000018\"],[0.8888888888888888,\"#000019\"],[1.0,\"#000020\"]]},\"colorway\":[\"#000001\",\"#000002\",\"#000003\",\"#000004\",\"#000005\",\"#000006\",\"#000007\",\"#000008\",\"#000009\",\"#000010\"]}},\"geo\":{\"domain\":{\"x\":[0.0,1.0],\"y\":[0.0,1.0]},\"center\":{}},\"coloraxis\":{\"colorbar\":{\"title\":{\"text\":\"Moyenne\"},\"thicknessmode\":\"pixels\",\"thickness\":20,\"lenmode\":\"pixels\",\"len\":200,\"yanchor\":\"top\",\"y\":0.8,\"ticks\":\"outside\",\"dtick\":5},\"colorscale\":[[0.0,\"#440154\"],[0.1111111111111111,\"#482878\"],[0.2222222222222222,\"#3e4989\"],[0.3333333333333333,\"#31688e\"],[0.4444444444444444,\"#26828e\"],[0.5555555555555556,\"#1f9e89\"],[0.6666666666666666,\"#35b779\"],[0.7777777777777778,\"#6ece58\"],[0.8888888888888888,\"#b5de2b\"],[1.0,\"#fde725\"]],\"cmin\":0,\"cmax\":100},\"legend\":{\"tracegroupgap\":0},\"margin\":{\"t\":0,\"r\":0,\"l\":0,\"b\":0}},                        {\"responsive\": true}                    ).then(function(){\n",
       "                            \n",
       "var gd = document.getElementById('2f908803-4863-4eb9-b28f-064ce197ca0e');\n",
       "var x = new MutationObserver(function (mutations, observer) {{\n",
       "        var display = window.getComputedStyle(gd).display;\n",
       "        if (!display || display === 'none') {{\n",
       "            console.log([gd, 'removed!']);\n",
       "            Plotly.purge(gd);\n",
       "            observer.disconnect();\n",
       "        }}\n",
       "}});\n",
       "\n",
       "// Listen for the removal of the full notebook cells\n",
       "var notebookContainer = gd.closest('#notebook-container');\n",
       "if (notebookContainer) {{\n",
       "    x.observe(notebookContainer, {childList: true});\n",
       "}}\n",
       "\n",
       "// Listen for the clearing of the current output cell\n",
       "var outputEl = gd.closest('.output');\n",
       "if (outputEl) {{\n",
       "    x.observe(outputEl, {childList: true});\n",
       "}}\n",
       "\n",
       "                        })                };                });            </script>        </div>"
      ]
     },
     "metadata": {},
     "output_type": "display_data"
    },
    {
     "ename": "AttributeError",
     "evalue": "module 'streamlit' has no attribute 'express'",
     "output_type": "error",
     "traceback": [
      "\u001b[0;31m---------------------------------------------------------------------------\u001b[0m",
      "\u001b[0;31mAttributeError\u001b[0m                            Traceback (most recent call last)",
      "\u001b[0;32m/var/folders/1_/54_5j3cn25jd5mt0cyzggqj80000gn/T/ipykernel_2961/1887511252.py\u001b[0m in \u001b[0;36m<module>\u001b[0;34m\u001b[0m\n\u001b[1;32m     64\u001b[0m \u001b[0mfig\u001b[0m\u001b[0;34m.\u001b[0m\u001b[0mshow\u001b[0m\u001b[0;34m(\u001b[0m\u001b[0;34m)\u001b[0m\u001b[0;34m\u001b[0m\u001b[0;34m\u001b[0m\u001b[0m\n\u001b[1;32m     65\u001b[0m \u001b[0;34m\u001b[0m\u001b[0m\n\u001b[0;32m---> 66\u001b[0;31m \u001b[0mst\u001b[0m\u001b[0;34m.\u001b[0m\u001b[0mexpress\u001b[0m\u001b[0;34m(\u001b[0m\u001b[0;34m)\u001b[0m\u001b[0;34m\u001b[0m\u001b[0;34m\u001b[0m\u001b[0m\n\u001b[0m\u001b[1;32m     67\u001b[0m \u001b[0;34m\u001b[0m\u001b[0m\n",
      "\u001b[0;31mAttributeError\u001b[0m: module 'streamlit' has no attribute 'express'"
     ]
    },
    {
     "data": {
      "text/plain": [
       "<Figure size 640x480 with 0 Axes>"
      ]
     },
     "metadata": {},
     "output_type": "display_data"
    }
   ],
   "source": [
    "import streamlit as st\n",
    "import plotly.express as px\n",
    "import numpy as np\n",
    "import matplotlib.pyplot as plt\n",
    "import altair as alt\n",
    "import json\n",
    "\n",
    "# streamlit\n",
    "\n",
    "# Carte des Haut-de-Seine : (prix du mettre carrée ne moy par ville)\n",
    "with open('/Users/yann/Documents/cours_Ynov/Ydays/Data/bien_ici/HDS.json', 'r') as f:\n",
    "    HautDeSeineJson = json.load(f)\n",
    "    \n",
    "moyenne = [0 for i in range(len(codePostal))]\n",
    "cpt = [0 for i in range(len(codePostal))]\n",
    "\n",
    "for i in range(len(Maison[\"Code Postal\"])):\n",
    "    for j in range(len(codePostal)):\n",
    "        if Maison[\"Code Postal\"][i] == codePostal[j]:\n",
    "            moyenne[j] += int(Maison[\"Prix du m2\"][i])\n",
    "            cpt[j] += 1\n",
    "\n",
    "for i in range(len(moyenne)):\n",
    "    moyenne[i] /= cpt[i]\n",
    "\n",
    "#print(moyenne)\n",
    "#print(type(HautDeSeineJson[\"features\"]))\n",
    "\n",
    "for i in range(len(HautDeSeineJson[\"features\"])):\n",
    "    HautDeSeineJson[\"features\"][i][\"id\"]= HautDeSeineJson[\"features\"][i][\"properties\"][\"code\"]\n",
    "\n",
    "#print(HautDeSeineJson)\n",
    "df = pd.DataFrame({\"code\": codePostal, \"Moyenne\": moyenne})\n",
    "\n",
    "\n",
    "y_pos = np.arange(len(df[\"code\"]))\n",
    "plt.bar(y_pos, df[\"Moyenne\"])\n",
    "plt.xticks(y_pos, df[\"code\"], rotation=90)\n",
    "plt.subplots_adjust(bottom=0.4, top=0.99)\n",
    "plt.show()\n",
    "\n",
    "st.pyplot()\n",
    "# Build the choropleth\n",
    "fig = px.choropleth(df, \n",
    "    geojson=HautDeSeineJson, \n",
    "    locations='code',\n",
    "    color='Moyenne',\n",
    "    color_continuous_scale=\"Viridis\",\n",
    "    range_color=(0, 100),\n",
    "    #scope=\"france\",\n",
    "    labels={'Moyenne':'Moyenne'}\n",
    ")\n",
    "fig.update_layout(margin={\"r\":0,\"t\":0,\"l\":0,\"b\":0})\n",
    "\n",
    "# Improve the legend\n",
    "fig.update_layout(coloraxis_colorbar=dict(\n",
    "    thicknessmode=\"pixels\", thickness=20,\n",
    "    lenmode=\"pixels\", len=200,\n",
    "    yanchor=\"top\", y=0.8,\n",
    "    ticks=\"outside\",\n",
    "    dtick=5\n",
    "))\n",
    "\n",
    "fig.show()\n",
    "\n",
    "st.express()\n",
    "\n"
   ]
  },
  {
   "cell_type": "code",
   "execution_count": null,
   "metadata": {},
   "outputs": [],
   "source": []
  }
 ],
 "metadata": {
  "kernelspec": {
   "display_name": "Python 3 (ipykernel)",
   "language": "python",
   "name": "python3"
  },
  "language_info": {
   "codemirror_mode": {
    "name": "ipython",
    "version": 3
   },
   "file_extension": ".py",
   "mimetype": "text/x-python",
   "name": "python",
   "nbconvert_exporter": "python",
   "pygments_lexer": "ipython3",
   "version": "3.9.13"
  }
 },
 "nbformat": 4,
 "nbformat_minor": 2
}
