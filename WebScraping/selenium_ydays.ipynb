{
 "cells": [
  {
   "cell_type": "code",
   "execution_count": 2,
   "metadata": {},
   "outputs": [
    {
     "name": "stderr",
     "output_type": "stream",
     "text": [
      "C:\\Users\\mynam\\AppData\\Local\\Temp\\ipykernel_9668\\1936484855.py:16: DeprecationWarning: executable_path has been deprecated, please pass in a Service object\n",
      "  driver = webdriver.Chrome(\"./chrome_driver/chromedriver.exe\")\n"
     ]
    }
   ],
   "source": [
    "# Imports\n",
    "import pandas as pd\n",
    "from selenium import webdriver\n",
    "from selenium import webdriver\n",
    "from webdriver_manager.chrome import ChromeDriverManager\n",
    "from selenium.webdriver.chrome.service import Service as ChromeService\n",
    "from selenium.webdriver.common.by import By\n",
    "\n",
    "rows = []\n",
    "\n",
    "def scraping():\n",
    "    for page in range(1, 5 ,1):\n",
    "        page_url = \"https://www.carrefour.fr/r/viandes-et-poissons/boucherie?noRedirect=1&page=\" + str(page)\n",
    "        # service = ChromeService(executable_path=ChromeDriverManager().install())\n",
    "        # driver = webdriver.Chrome(service=service)\n",
    "        driver = webdriver.Chrome(\"./chrome_driver/chromedriver.exe\")\n",
    "        driver.get(page_url)\n",
    "        all_li = driver.find_element(By.XPATH, '//ul[@class=\"product-grid\"]')\n",
    "\n",
    "\n",
    "        for li in all_li.find_elements(By.XPATH, './/li[@class=\"product-grid-item\"]'):\n",
    "            titre = li.find_element(By.XPATH, './/h2[@class=\"ds-title ds-title--s\"]').text\n",
    "            prix_barquette = li.find_element(By.XPATH, './/span[@class=\"product-price__amount-value\"]').text\n",
    "            prix_par_kilo = li.find_element(By.XPATH, './/div[@class=\"ds-body-text ds-product-card-refonte__perunitlabel ds-body-text--size-s ds-body-text--color-standard-3\"]').text.strip(' € / KG')\n",
    "            rows.append((titre, prix_barquette, prix_par_kilo))\n",
    "        \n",
    "        driver.close()\n",
    "    df = pd.DataFrame(rows, columns=[\"Titre\", \"Prix_barquette\", \"Prix Par Kilo\"])\n",
    "    df.to_excel(f\"test{page}.xlsx\", index=False)\n",
    "\n",
    "mydf = scraping()"
   ]
  },
  {
   "cell_type": "markdown",
   "metadata": {},
   "source": [
    "La doc : https://selenium-python.readthedocs.io/navigating.html<br>\n",
    "moins complète mais plus propre : http://akul.me/blog/2016/selenium-cheatsheet/ <br>\n",
    "Cheatsheet : http://allselenium.info/python-selenium-commands-cheat-sheet-frequently-used/<br>\n",
    "xpath Cheatsheet : https://devhints.io/xpath<br>"
   ]
  },
  {
   "cell_type": "markdown",
   "metadata": {},
   "source": [
    "Télécharger webdriver: https://chromedriver.chromium.org/downloads . \\\n",
    "Rangez-le dans un dossier et rajoutez le path du fichier chromedriver.exe dans vos variables d'environnement système (puis redémarrer)."
   ]
  },
  {
   "attachments": {},
   "cell_type": "markdown",
   "metadata": {},
   "source": [
    "## Connection"
   ]
  },
  {
   "cell_type": "code",
   "execution_count": null,
   "metadata": {},
   "outputs": [],
   "source": [
    "import time\n",
    "browser = webdriver.Chrome('/Users/caps/Desktop/chrome_driver/chromedriver')\n",
    "browser.get('https://www.zalando.fr/')\n",
    "time.sleep(3)"
   ]
  }
 ],
 "metadata": {
  "kernelspec": {
   "display_name": "Python 3",
   "language": "python",
   "name": "python3"
  },
  "language_info": {
   "codemirror_mode": {
    "name": "ipython",
    "version": 3
   },
   "file_extension": ".py",
   "mimetype": "text/x-python",
   "name": "python",
   "nbconvert_exporter": "python",
   "pygments_lexer": "ipython3",
   "version": "3.11.2"
  },
  "orig_nbformat": 4
 },
 "nbformat": 4,
 "nbformat_minor": 2
}
