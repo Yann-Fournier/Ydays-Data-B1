{
 "cells": [
  {
   "cell_type": "code",
   "execution_count": 1,
   "metadata": {},
   "outputs": [],
   "source": [
    "import os, glob\n",
    "import pandas as pd"
   ]
  },
  {
   "cell_type": "code",
   "execution_count": null,
   "metadata": {},
   "outputs": [],
   "source": [
    "path = \"/Users/yann/Desktop/Ydays/Data/WebScraping/\" # full path des fichiers csv\n",
    "#all_files = glob.glob(path + \"A*.csv\") # on fait des trucs grace au package globe\n",
    "all_files = glob.glob(\"A*.csv\")\n",
    "#print(all_files) # test"
   ]
  },
  {
   "cell_type": "code",
   "execution_count": null,
   "metadata": {},
   "outputs": [],
   "source": [
    "all_df = []\n",
    "for f in all_files:\n",
    "    df = pd.read_csv(f, sep=',')\n",
    "    df['file'] = f.split('/')[-1]\n",
    "    all_df.append(df)\n",
    "\n",
    "# print(len(all_df))\n",
    "# print(all_df[2])"
   ]
  },
  {
   "cell_type": "markdown",
   "metadata": {},
   "source": []
  },
  {
   "cell_type": "code",
   "execution_count": null,
   "metadata": {},
   "outputs": [],
   "source": [
    "merged_df = pd.concat(all_df, ignore_index=True) # concatener plusieurs csv\n",
    "#merged_df.drop_duplicates() # enlever les doublons \n",
    "merged_df.drop('file', inplace=True, axis=1) # supprimer la colonne 'file' (de quelle fichier provient la ligne)\n",
    "merged_df.drop_duplicates() # enlever les doublons \n",
    "#merged_df.drop('Unnamed', inplace=True, axis=1) # supprimer la colonne '' (Il y a des sort d'indices; jsp d'ou ils viennent)\n",
    "merged_df.to_csv(\"voiture.csv\") # tout mettre dans un csv"
   ]
  },
  {
   "cell_type": "code",
   "execution_count": null,
   "metadata": {},
   "outputs": [],
   "source": [
    "from pymongo import MongoClient\n",
    "\n",
    "client = MongoClient(host=\"localhost\", port=27017)\n",
    "\n",
    "# ou bien \n",
    "\n",
    "db_uri = \"mongodb://localhost:27017/\"\n",
    "client = MongoClient(db_uri)\n",
    "\n",
    "# affichage un objet\n",
    "print(client)\n"
   ]
  }
 ],
 "metadata": {
  "kernelspec": {
   "display_name": "Python 3 (ipykernel)",
   "language": "python",
   "name": "python3"
  },
  "language_info": {
   "codemirror_mode": {
    "name": "ipython",
    "version": 3
   },
   "file_extension": ".py",
   "mimetype": "text/x-python",
   "name": "python",
   "nbconvert_exporter": "python",
   "pygments_lexer": "ipython3",
   "version": "3.11.0"
  },
  "vscode": {
   "interpreter": {
    "hash": "aee8b7b246df8f9039afb4144a1f6fd8d2ca17a180786b69acc140d282b71a49"
   }
  }
 },
 "nbformat": 4,
 "nbformat_minor": 2
}
