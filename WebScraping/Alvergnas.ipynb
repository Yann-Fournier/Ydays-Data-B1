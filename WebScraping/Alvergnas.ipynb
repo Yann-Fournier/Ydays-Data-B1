{
 "cells": [
  {
   "cell_type": "code",
   "execution_count": 1,
   "metadata": {},
   "outputs": [],
   "source": [
    "#utiliser \n",
    "\n",
    "# nettoyer les donnees \n",
    "#gerer le probleme de la date"
   ]
  },
  {
   "cell_type": "code",
   "execution_count": 2,
   "metadata": {},
   "outputs": [],
   "source": [
    "from selenium import webdriver\n",
    "from selenium.webdriver.chrome.service import Service as ChromeService\n",
    "from webdriver_manager.chrome import ChromeDriverManager\n",
    "import time\n",
    "import pandas as pd"
   ]
  },
  {
   "cell_type": "code",
   "execution_count": 3,
   "metadata": {},
   "outputs": [],
   "source": [
    "# On recupere le controle du driver\n",
    "DRIVER_PATH = \"./chromedriver\"\n",
    "driver = webdriver.Chrome(service=ChromeService(ChromeDriverManager().install()))\n",
    "driver.implicitly_wait(5)"
   ]
  },
  {
   "cell_type": "code",
   "execution_count": 4,
   "metadata": {},
   "outputs": [],
   "source": [
    "# On va chehcher notre site web\n",
    "page_url = \"https://www.alvergnas.com/trouver-un-vehicule/#!/vehicle?pg=\"\n",
    "driver.get(page_url)\n",
    "time.sleep(5)"
   ]
  },
  {
   "cell_type": "code",
   "execution_count": 5,
   "metadata": {},
   "outputs": [
    {
     "ename": "NameError",
     "evalue": "name 'By' is not defined",
     "output_type": "error",
     "traceback": [
      "\u001b[1;31m---------------------------------------------------------------------------\u001b[0m",
      "\u001b[1;31mNameError\u001b[0m                                 Traceback (most recent call last)",
      "Cell \u001b[1;32mIn[5], line 3\u001b[0m\n\u001b[0;32m      1\u001b[0m \u001b[39m#recuperation du nombre d'element\u001b[39;00m\n\u001b[1;32m----> 3\u001b[0m nbr \u001b[39m=\u001b[39m driver\u001b[39m.\u001b[39mfind_element(By\u001b[39m.\u001b[39mXPATH,\u001b[39m'\u001b[39m\u001b[39m/html/body/div[1]/div/div[1]/div/div/div/div/div/div/p/app-root/div/app-list/div[1]/div[2]/mat-paginator/div/div[2]/div\u001b[39m\u001b[39m'\u001b[39m)\u001b[39m.\u001b[39mtext\n\u001b[0;32m      5\u001b[0m \u001b[39m# le nbr de voiture\u001b[39;00m\n\u001b[0;32m      6\u001b[0m nbr_elems \u001b[39m=\u001b[39m \u001b[39m\"\u001b[39m\u001b[39m\"\u001b[39m\n",
      "\u001b[1;31mNameError\u001b[0m: name 'By' is not defined"
     ]
    }
   ],
   "source": [
    "#recuperation du nombre d'element\n",
    "\n",
    "nbr = driver.find_element(By.XPATH,'/html/body/div[1]/div/div[1]/div/div/div/div/div/div/p/app-root/div/app-list/div[1]/div[2]/mat-paginator/div/div[2]/div').text\n",
    "\n",
    "# le nbr de voiture\n",
    "nbr_elems = \"\"\n",
    "for i in range(len(nbr)-1, 0, -1):\n",
    "    if nbr[i]== \" \":\n",
    "        break\n",
    "    nbr_elems = nbr[i] + nbr_elems\n",
    "\n",
    "print(nbr_elems)\n",
    "\n",
    "#recuperation du nombre de page\n",
    "nbr_pages = int(int(nbr_elems) / 12)\n",
    "print(nbr_pages)\n",
    "\n",
    "#recuperation du nombre d'element sur la dernière page\n",
    "nbr_elem_last_page = int(nbr_elems)-(12*nbr_pages)\n",
    "print(nbr_elem_last_page)\n",
    "\n",
    "driver.close()\n",
    "driver.quit()\n"
   ]
  },
  {
   "cell_type": "code",
   "execution_count": null,
   "metadata": {},
   "outputs": [],
   "source": [
    "#Creation des tableaux qui ou seront stockées les données de chaque voiture\n",
    "Nom=[]#\n",
    "Prix=[]#\n",
    "Mise_en_circulation = []#\n",
    "Premiere_main = []#\n",
    "Kilometrage = []#\n",
    "Carburant = []#\n",
    "BDV = []#\n",
    "Puissance_fiscale = []#\n",
    "Puissance_din = []#\n"
   ]
  },
  {
   "cell_type": "code",
   "execution_count": null,
   "metadata": {},
   "outputs": [
    {
     "name": "stderr",
     "output_type": "stream",
     "text": [
      "/var/folders/1_/54_5j3cn25jd5mt0cyzggqj80000gn/T/ipykernel_90449/3400752861.py:15: DeprecationWarning: executable_path has been deprecated, please pass in a Service object\n",
      "  driver = webdriver.Chrome(DRIVER_PATH, options=chrome_options)\n"
     ]
    }
   ],
   "source": [
    "elem = 12\n",
    "\n",
    "for a in range(1, nbr_pages+1):\n",
    "#for a in range(1):\n",
    "\n",
    "        try:\n",
    "                # On reouvre Chrome a chaque nouvelle page\n",
    "\n",
    "                # Garder la page ouverte\n",
    "                chrome_options = Options() \n",
    "                chrome_options.add_experimental_option(\"detach\", True)\n",
    "\n",
    "                # # On recupere le controle du driver\n",
    "                DRIVER_PATH = \"./chromedriver\"\n",
    "                driver = webdriver.Chrome(DRIVER_PATH, options=chrome_options)\n",
    "                driver.implicitly_wait(5)\n",
    "\n",
    "\n",
    "                if a == nbr_pages:\n",
    "                        elem = nbr_elem_last_page\n",
    "\n",
    "\n",
    "                page_url = \"https://www.alvergnas.com/trouver-un-vehicule/#!/vehicle?pg=\" + str(a)\n",
    "                driver.get(page_url)\n",
    "                #time.sleep(5)\n",
    "                \n",
    "                #print(a)\n",
    "                #print(elem)\n",
    "\n",
    "                for i in range(elem):\n",
    "\n",
    "                        #print(i)\n",
    "                        try :\n",
    "                                driver.find_element(By.XPATH,f\"//*[@id='et-boc']/div/div/div/div/div/div/p/app-root/div/app-list/div[2]/div/div[{i+1}]/mat-card/mat-card-actions/button\").click()\n",
    "                                time.sleep(1)\n",
    "                                \n",
    "                                try:\n",
    "                                        nom =  driver.find_element(By.XPATH, \"//*[@id='print-section']/div[1]/div[2]/div[1]/h1\").text\n",
    "                                except:\n",
    "                                        nom = None\n",
    "\n",
    "                                try:  \n",
    "                                        prix = driver.find_element(By.XPATH, \"//*[@id='print-section']/div[1]/div[3]/div[2]/div[2]/div/button\").text\n",
    "                                        prix = int(prix.replace(\" \", \"\")[1:])\n",
    "                                except:\n",
    "                                        prix = None\n",
    "\n",
    "                                try:\n",
    "                                        mise_en_circulation = driver.find_element(By.XPATH,'//*[@id=\"print-section\"]/div[1]/div[5]/span[12]/span/div[2]/span').text\n",
    "                                except:\n",
    "                                        mise_en_circulation = None\n",
    "\n",
    "                                try:\n",
    "                                        premiere_main =  driver.find_element(By.XPATH,'//*[@id=\"print-section\"]/div[1]/div[5]/span[13]/span/div[2]/span').text\n",
    "                                        if premiere_main == \"Non\":\n",
    "                                                premiere_main = 0\n",
    "                                        premiere_main = 1\n",
    "                                except:\n",
    "                                        premiere_main = None\n",
    "\n",
    "                                try:\n",
    "                                        km = driver.find_element(By.XPATH,'//*[@id=\"print-section\"]/div[1]/div[5]/span[2]/span/div[2]/span').text\n",
    "                                        km = int(km.replace(\" \", \"\")[:-2])\n",
    "                                except:\n",
    "                                        km = None\n",
    "                        \n",
    "                                try:\n",
    "                                        carburant = driver.find_element(By.XPATH,'//*[@id=\"print-section\"]/div[1]/div[5]/span[3]/span/div[2]/span').text\n",
    "                                except:\n",
    "                                        carburant = None\n",
    "\n",
    "                                try :\n",
    "                                        bdv =  driver.find_element(By.XPATH,'//*[@id=\"print-section\"]/div[1]/div[5]/span[4]/span/div[2]/span').text\n",
    "                                except:\n",
    "                                        bdv = None\n",
    "\n",
    "                                try:\n",
    "                                        puissance_fiscale = driver.find_element(By.XPATH,'//*[@id=\"print-section\"]/div[1]/div[5]/span[6]/span/div[2]/span').text\n",
    "                                        puissance_fiscale = int(puissance_fiscale[:-2])\n",
    "                                except:\n",
    "                                        puissance_fiscale = None\n",
    "\n",
    "                                try:\n",
    "                                        puissance_din = driver.find_element(By.XPATH,'//*[@id=\"print-section\"]/div[1]/div[5]/span[5]/span/div[2]/span').text\n",
    "                                        puissance_din = int(puissance_din[:-2])\n",
    "                                except:\n",
    "                                        puissance_din = None\n",
    "\n",
    "                                Nom.append(nom)\n",
    "                                Prix.append(prix)\n",
    "                                Mise_en_circulation.append(mise_en_circulation)\n",
    "                                Premiere_main.append(premiere_main)\n",
    "                                Kilometrage.append(km)\n",
    "                                Carburant.append(carburant)\n",
    "                                BDV.append(bdv)\n",
    "                                Puissance_fiscale.append(puissance_fiscale)\n",
    "                                Puissance_din.append(puissance_din)\n",
    "                                \n",
    "\n",
    "                                #print(nom)\n",
    "                                #print(prix)\n",
    "                                #print(mise_en_circulation)\n",
    "                                #print(premiere_main)\n",
    "                                #print(kilometrage)\n",
    "                                #print(fuel)\n",
    "                                #print(boite_de_vitesse)\n",
    "                                #print(puissance_fiscale)\n",
    "                                #print(power)\n",
    "                                \n",
    "\n",
    "                                driver.back()\n",
    "                                #driver.execute_script(\"window.history.go(-1)\")\n",
    "                                #time.sleep(5)\n",
    "                        except:\n",
    "                                pass\n",
    "\n",
    "\n",
    "                # On ferme Chrome a chaque fin de page\n",
    "                driver.close()\n",
    "                driver.quit()       \n",
    "        except:\n",
    "                pass\n",
    "                \n",
    "\n",
    "        # On ferme Chrome a chaque fin de page\n",
    "        # driver.close()\n",
    "        # driver.quit()\n",
    "\n"
   ]
  },
  {
   "cell_type": "code",
   "execution_count": null,
   "metadata": {},
   "outputs": [],
   "source": [
    "df = pd.DataFrame({'Nom': Nom, 'Prix': Prix, 'Mise_en_circulation': Mise_en_circulation, 'Première Main': Premiere_main, 'Kilometrage': Kilometrage, 'Carburant': Carburant, 'Boîte de vitesse': BDV, 'Puissance fiscale' : Puissance_fiscale, 'Puissance_din': Puissance_din})\n",
    "df.to_csv('Alvegnas6.csv', index=False, encoding='utf-8')\n",
    "#print(df)\n"
   ]
  }
 ],
 "metadata": {
  "kernelspec": {
   "display_name": "Python 3.11.0 64-bit",
   "language": "python",
   "name": "python3"
  },
  "language_info": {
   "codemirror_mode": {
    "name": "ipython",
    "version": 3
   },
   "file_extension": ".py",
   "mimetype": "text/x-python",
   "name": "python",
   "nbconvert_exporter": "python",
   "pygments_lexer": "ipython3",
   "version": "3.11.4"
  },
  "orig_nbformat": 4,
  "vscode": {
   "interpreter": {
    "hash": "aee8b7b246df8f9039afb4144a1f6fd8d2ca17a180786b69acc140d282b71a49"
   }
  }
 },
 "nbformat": 4,
 "nbformat_minor": 2
}
