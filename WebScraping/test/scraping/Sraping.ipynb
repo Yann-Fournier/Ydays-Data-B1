{
 "cells": [
  {
   "cell_type": "code",
   "execution_count": 2,
   "metadata": {},
   "outputs": [],
   "source": [
    "from selenium import webdriver\n",
    "from selenium.webdriver.common.by import By\n",
    "from selenium.webdriver.chrome.service import Service as ChromeService\n",
    "from webdriver_manager.chrome import ChromeDriverManager\n",
    "\n",
    "import pandas as pd\n",
    "import os\n",
    "import time"
   ]
  },
  {
   "cell_type": "code",
   "execution_count": 3,
   "metadata": {},
   "outputs": [
    {
     "name": "stderr",
     "output_type": "stream",
     "text": [
      "/var/folders/1_/54_5j3cn25jd5mt0cyzggqj80000gn/T/ipykernel_93341/2110673643.py:2: DeprecationWarning: executable_path has been deprecated, please pass in a Service object\n",
      "  driver = webdriver.Chrome(cwd + '/ChromeDriver/chromedriver')\n"
     ]
    }
   ],
   "source": [
    "cwd = os.getcwd()\n",
    "driver = webdriver.Chrome(cwd + '/ChromeDriver/chromedriver')"
   ]
  },
  {
   "cell_type": "code",
   "execution_count": 4,
   "metadata": {},
   "outputs": [],
   "source": [
    "# Creation des tbleau ou seront stockées les données recupérer\n",
    "name=[] #List to store name of the product\n",
    "prices=[] #List to store price of the product\n",
    "#liens=[]"
   ]
  },
  {
   "cell_type": "code",
   "execution_count": 5,
   "metadata": {},
   "outputs": [],
   "source": [
    "url ='https://boutique-rugby.com/tous-clubs-rugby/boutique-top-14/boutique-rugby-clermont-asm.html'\n",
    "driver.get(url)"
   ]
  },
  {
   "cell_type": "code",
   "execution_count": 6,
   "metadata": {},
   "outputs": [],
   "source": [
    "# On recupère les données\n",
    "for i in range(6):\n",
    "    # On recupere seulement le texte. Pas le code HTML\n",
    "    nom = driver.find_element(By.XPATH,'/html/body/div[2]/main/div[4]/div[1]/div[3]/div[2]/ol/li[' + str(i+1) + ']/div/div[3]/strong/a').text\n",
    "    #lien =driver.find_element(By.XPATH,'/html/body/div[2]/main/div[4]/div[1]/div[3]/div[2]/ol/li[' + str(i+1) + ']/div/div[3]/strong/a').href\n",
    "    prix = driver.find_element(By.XPATH,'/html/body/div[2]/main/div[4]/div[1]/div[3]/div[2]/ol/li[' + str(i+1) + ']/div/div[3]/div[1]/span/span/span[2]/span').text\n",
    "    name.append(nom)\n",
    "    prices.append(prix)\n",
    "    #liens.append(lien)"
   ]
  },
  {
   "cell_type": "code",
   "execution_count": 7,
   "metadata": {},
   "outputs": [
    {
     "name": "stdout",
     "output_type": "stream",
     "text": [
      "                                                 Nom     Prix\n",
      "0  Maillot Rugby Clermont ASM Domicile 2022/2023 ...  85,00 €\n",
      "1  Maillot Rugby Homme Replica Exterieur ASM 2022...  85,00 €\n",
      "2  Maillot Rugby Enfant Replica Domicile ASM 2022...  75,00 €\n",
      "3  Maillot Rugby Enfant Replica Exterieur ASM 202...  75,00 €\n",
      "4  Short Rugby ASM Clermont Domicile 2022/2023 - ...  59,00 €\n",
      "5  Short Rugby ASM Clermont Extérieur 2022/2023 -...  59,00 €\n"
     ]
    }
   ],
   "source": [
    "# affichage stylé avec pandas\n",
    "df = pd.DataFrame({'Nom':name, 'Prix':prices })\n",
    "df.to_csv('maillots.csv',index=False, encoding='utf-8')\n",
    "print(df)"
   ]
  },
  {
   "cell_type": "code",
   "execution_count": 8,
   "metadata": {},
   "outputs": [],
   "source": [
    "driver.close()"
   ]
  },
  {
   "cell_type": "code",
   "execution_count": null,
   "metadata": {},
   "outputs": [],
   "source": [
    "driver.quit()"
   ]
  }
 ],
 "metadata": {
  "kernelspec": {
   "display_name": "Python 3.11.0 64-bit",
   "language": "python",
   "name": "python3"
  },
  "language_info": {
   "codemirror_mode": {
    "name": "ipython",
    "version": 3
   },
   "file_extension": ".py",
   "mimetype": "text/x-python",
   "name": "python",
   "nbconvert_exporter": "python",
   "pygments_lexer": "ipython3",
   "version": "3.11.0 (v3.11.0:deaf509e8f, Oct 24 2022, 14:43:23) [Clang 13.0.0 (clang-1300.0.29.30)]"
  },
  "orig_nbformat": 4,
  "vscode": {
   "interpreter": {
    "hash": "aee8b7b246df8f9039afb4144a1f6fd8d2ca17a180786b69acc140d282b71a49"
   }
  }
 },
 "nbformat": 4,
 "nbformat_minor": 2
}
