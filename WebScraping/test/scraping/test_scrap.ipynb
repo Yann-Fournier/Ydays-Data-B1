{
 "cells": [
  {
   "cell_type": "code",
   "execution_count": 103,
   "metadata": {},
   "outputs": [],
   "source": [
    "from selenium import webdriver\n",
    "from selenium.webdriver.common.by import By\n",
    "from selenium.webdriver.chrome.options import Options\n",
    "import time\n",
    "import pandas as pd"
   ]
  },
  {
   "cell_type": "code",
   "execution_count": 104,
   "metadata": {},
   "outputs": [
    {
     "name": "stderr",
     "output_type": "stream",
     "text": [
      "/var/folders/1_/54_5j3cn25jd5mt0cyzggqj80000gn/T/ipykernel_97875/2679406305.py:6: DeprecationWarning: executable_path has been deprecated, please pass in a Service object\n",
      "  driver = webdriver.Chrome(DRIVER_PATH, options=chrome_options)\n"
     ]
    }
   ],
   "source": [
    "# Garder la page ouverte\n",
    "chrome_options = Options() \n",
    "chrome_options.add_experimental_option(\"detach\", True)\n",
    "\n",
    "DRIVER_PATH = \"./chromedriver\"\n",
    "driver = webdriver.Chrome(DRIVER_PATH, options=chrome_options)\n",
    "driver.implicitly_wait(10)"
   ]
  },
  {
   "cell_type": "code",
   "execution_count": 105,
   "metadata": {},
   "outputs": [],
   "source": [
    "page_url = \"https://www.alvergnas.com/trouver-un-vehicule/#!/vehicle?pg=\"\n",
    "driver.get(page_url)\n",
    "#time.sleep(5)"
   ]
  },
  {
   "cell_type": "code",
   "execution_count": 106,
   "metadata": {},
   "outputs": [],
   "source": [
    "nom = []\n",
    "prix = []"
   ]
  },
  {
   "cell_type": "code",
   "execution_count": 107,
   "metadata": {},
   "outputs": [
    {
     "ename": "NoSuchElementException",
     "evalue": "Message: no such element: Unable to locate element: {\"method\":\"xpath\",\"selector\":\"/html/body/div[1]/div/div[1]/div/div/div/div/div/div/p/app-root/div/app-list/div[2]/div/div[2]/mat-card/mat-card-actions/button\"}\n  (Session info: chrome=107.0.5304.110)\nStacktrace:\n0   chromedriver                        0x00000001016112c8 chromedriver + 4752072\n1   chromedriver                        0x0000000101591463 chromedriver + 4228195\n2   chromedriver                        0x00000001011f4b18 chromedriver + 441112\n3   chromedriver                        0x0000000101231e21 chromedriver + 691745\n4   chromedriver                        0x0000000101232061 chromedriver + 692321\n5   chromedriver                        0x000000010126d5e4 chromedriver + 935396\n6   chromedriver                        0x0000000101252d2d chromedriver + 826669\n7   chromedriver                        0x000000010126b134 chromedriver + 926004\n8   chromedriver                        0x0000000101252b33 chromedriver + 826163\n9   chromedriver                        0x00000001012239fd chromedriver + 633341\n10  chromedriver                        0x0000000101225051 chromedriver + 639057\n11  chromedriver                        0x00000001015de30e chromedriver + 4543246\n12  chromedriver                        0x00000001015e2a88 chromedriver + 4561544\n13  chromedriver                        0x00000001015ea6df chromedriver + 4593375\n14  chromedriver                        0x00000001015e38fa chromedriver + 4565242\n15  chromedriver                        0x00000001015b92cf chromedriver + 4391631\n16  chromedriver                        0x00000001016025b8 chromedriver + 4691384\n17  chromedriver                        0x0000000101602739 chromedriver + 4691769\n18  chromedriver                        0x000000010161881e chromedriver + 4782110\n19  libsystem_pthread.dylib             0x00007ff8153b1259 _pthread_start + 125\n20  libsystem_pthread.dylib             0x00007ff8153acc7b thread_start + 15\n",
     "output_type": "error",
     "traceback": [
      "\u001b[0;31m---------------------------------------------------------------------------\u001b[0m",
      "\u001b[0;31mNoSuchElementException\u001b[0m                    Traceback (most recent call last)",
      "Cell \u001b[0;32mIn [107], line 7\u001b[0m\n\u001b[1;32m      3\u001b[0m \u001b[39mfor\u001b[39;00m i \u001b[39min\u001b[39;00m \u001b[39mrange\u001b[39m(\u001b[39m3\u001b[39m): \u001b[39m# nbr de voiture\u001b[39;00m\n\u001b[1;32m      4\u001b[0m \n\u001b[1;32m      5\u001b[0m     \u001b[39m# entrer page voiture\u001b[39;00m\n\u001b[1;32m      6\u001b[0m     time\u001b[39m.\u001b[39msleep(\u001b[39m5\u001b[39m)\n\u001b[0;32m----> 7\u001b[0m     driver\u001b[39m.\u001b[39;49mfind_element(By\u001b[39m.\u001b[39;49mXPATH,\u001b[39mf\u001b[39;49m\u001b[39m\"\u001b[39;49m\u001b[39m/html/body/div[1]/div/div[1]/div/div/div/div/div/div/p/app-root/div/app-list/div[2]/div/div[\u001b[39;49m\u001b[39m{\u001b[39;49;00mi\u001b[39m+\u001b[39;49m\u001b[39m1\u001b[39;49m\u001b[39m}\u001b[39;49;00m\u001b[39m]/mat-card/mat-card-actions/button\u001b[39;49m\u001b[39m\"\u001b[39;49m)\u001b[39m.\u001b[39mclick()\n\u001b[1;32m     10\u001b[0m     \u001b[39m# recuperation des donnees\u001b[39;00m\n\u001b[1;32m     11\u001b[0m     name \u001b[39m=\u001b[39m driver\u001b[39m.\u001b[39mfind_element(By\u001b[39m.\u001b[39mXPATH,\u001b[39m'\u001b[39m\u001b[39m//*[@id=\u001b[39m\u001b[39m\"\u001b[39m\u001b[39mprint-section\u001b[39m\u001b[39m\"\u001b[39m\u001b[39m]/div[1]/div[2]/div[1]/h1\u001b[39m\u001b[39m'\u001b[39m)\u001b[39m.\u001b[39mtext\n",
      "File \u001b[0;32m/Library/Frameworks/Python.framework/Versions/3.11/lib/python3.11/site-packages/selenium/webdriver/remote/webdriver.py:861\u001b[0m, in \u001b[0;36mWebDriver.find_element\u001b[0;34m(self, by, value)\u001b[0m\n\u001b[1;32m    858\u001b[0m     by \u001b[39m=\u001b[39m By\u001b[39m.\u001b[39mCSS_SELECTOR\n\u001b[1;32m    859\u001b[0m     value \u001b[39m=\u001b[39m \u001b[39m'\u001b[39m\u001b[39m[name=\u001b[39m\u001b[39m\"\u001b[39m\u001b[39m%s\u001b[39;00m\u001b[39m\"\u001b[39m\u001b[39m]\u001b[39m\u001b[39m'\u001b[39m \u001b[39m%\u001b[39m value\n\u001b[0;32m--> 861\u001b[0m \u001b[39mreturn\u001b[39;00m \u001b[39mself\u001b[39;49m\u001b[39m.\u001b[39;49mexecute(Command\u001b[39m.\u001b[39;49mFIND_ELEMENT, {\u001b[39m\"\u001b[39;49m\u001b[39musing\u001b[39;49m\u001b[39m\"\u001b[39;49m: by, \u001b[39m\"\u001b[39;49m\u001b[39mvalue\u001b[39;49m\u001b[39m\"\u001b[39;49m: value})[\u001b[39m\"\u001b[39m\u001b[39mvalue\u001b[39m\u001b[39m\"\u001b[39m]\n",
      "File \u001b[0;32m/Library/Frameworks/Python.framework/Versions/3.11/lib/python3.11/site-packages/selenium/webdriver/remote/webdriver.py:444\u001b[0m, in \u001b[0;36mWebDriver.execute\u001b[0;34m(self, driver_command, params)\u001b[0m\n\u001b[1;32m    442\u001b[0m response \u001b[39m=\u001b[39m \u001b[39mself\u001b[39m\u001b[39m.\u001b[39mcommand_executor\u001b[39m.\u001b[39mexecute(driver_command, params)\n\u001b[1;32m    443\u001b[0m \u001b[39mif\u001b[39;00m response:\n\u001b[0;32m--> 444\u001b[0m     \u001b[39mself\u001b[39;49m\u001b[39m.\u001b[39;49merror_handler\u001b[39m.\u001b[39;49mcheck_response(response)\n\u001b[1;32m    445\u001b[0m     response[\u001b[39m\"\u001b[39m\u001b[39mvalue\u001b[39m\u001b[39m\"\u001b[39m] \u001b[39m=\u001b[39m \u001b[39mself\u001b[39m\u001b[39m.\u001b[39m_unwrap_value(response\u001b[39m.\u001b[39mget(\u001b[39m\"\u001b[39m\u001b[39mvalue\u001b[39m\u001b[39m\"\u001b[39m, \u001b[39mNone\u001b[39;00m))\n\u001b[1;32m    446\u001b[0m     \u001b[39mreturn\u001b[39;00m response\n",
      "File \u001b[0;32m/Library/Frameworks/Python.framework/Versions/3.11/lib/python3.11/site-packages/selenium/webdriver/remote/errorhandler.py:249\u001b[0m, in \u001b[0;36mErrorHandler.check_response\u001b[0;34m(self, response)\u001b[0m\n\u001b[1;32m    247\u001b[0m         alert_text \u001b[39m=\u001b[39m value[\u001b[39m\"\u001b[39m\u001b[39malert\u001b[39m\u001b[39m\"\u001b[39m]\u001b[39m.\u001b[39mget(\u001b[39m\"\u001b[39m\u001b[39mtext\u001b[39m\u001b[39m\"\u001b[39m)\n\u001b[1;32m    248\u001b[0m     \u001b[39mraise\u001b[39;00m exception_class(message, screen, stacktrace, alert_text)  \u001b[39m# type: ignore[call-arg]  # mypy is not smart enough here\u001b[39;00m\n\u001b[0;32m--> 249\u001b[0m \u001b[39mraise\u001b[39;00m exception_class(message, screen, stacktrace)\n",
      "\u001b[0;31mNoSuchElementException\u001b[0m: Message: no such element: Unable to locate element: {\"method\":\"xpath\",\"selector\":\"/html/body/div[1]/div/div[1]/div/div/div/div/div/div/p/app-root/div/app-list/div[2]/div/div[2]/mat-card/mat-card-actions/button\"}\n  (Session info: chrome=107.0.5304.110)\nStacktrace:\n0   chromedriver                        0x00000001016112c8 chromedriver + 4752072\n1   chromedriver                        0x0000000101591463 chromedriver + 4228195\n2   chromedriver                        0x00000001011f4b18 chromedriver + 441112\n3   chromedriver                        0x0000000101231e21 chromedriver + 691745\n4   chromedriver                        0x0000000101232061 chromedriver + 692321\n5   chromedriver                        0x000000010126d5e4 chromedriver + 935396\n6   chromedriver                        0x0000000101252d2d chromedriver + 826669\n7   chromedriver                        0x000000010126b134 chromedriver + 926004\n8   chromedriver                        0x0000000101252b33 chromedriver + 826163\n9   chromedriver                        0x00000001012239fd chromedriver + 633341\n10  chromedriver                        0x0000000101225051 chromedriver + 639057\n11  chromedriver                        0x00000001015de30e chromedriver + 4543246\n12  chromedriver                        0x00000001015e2a88 chromedriver + 4561544\n13  chromedriver                        0x00000001015ea6df chromedriver + 4593375\n14  chromedriver                        0x00000001015e38fa chromedriver + 4565242\n15  chromedriver                        0x00000001015b92cf chromedriver + 4391631\n16  chromedriver                        0x00000001016025b8 chromedriver + 4691384\n17  chromedriver                        0x0000000101602739 chromedriver + 4691769\n18  chromedriver                        0x000000010161881e chromedriver + 4782110\n19  libsystem_pthread.dylib             0x00007ff8153b1259 _pthread_start + 125\n20  libsystem_pthread.dylib             0x00007ff8153acc7b thread_start + 15\n"
     ]
    }
   ],
   "source": [
    "for page in range(2): # nbr de page\n",
    "\n",
    "    for i in range(3): # nbr de voiture\n",
    "\n",
    "        # entrer page voiture\n",
    "        time.sleep(5)\n",
    "        driver.find_element(By.XPATH,f\"/html/body/div[1]/div/div[1]/div/div/div/div/div/div/p/app-root/div/app-list/div[2]/div/div[{i+1}]/mat-card/mat-card-actions/button\").click()\n",
    "        \n",
    "\n",
    "        # recuperation des donnees\n",
    "        name = driver.find_element(By.XPATH,'//*[@id=\"print-section\"]/div[1]/div[2]/div[1]/h1').text\n",
    "        time.sleep(5)\n",
    "        nom.append(name)\n",
    "        \n",
    "\n",
    "        price = driver.find_element(By.XPATH,'/html/body/div[1]/div/div[1]/div/div/div/div/div/div/p/app-root/div/app-vehicles/div/div/div[1]/div[3]/div[2]/div[2]/div/button').text\n",
    "        time.sleep(5)\n",
    "        prix.append(price)\n",
    "\n",
    "        # sortir page voiture (retourner catalogue)\n",
    "        driver.back()\n",
    "\n",
    "    # for i in range(len(nom)):\n",
    "    #     print(nom[i], prix[i])\n",
    "    #     print(\"\\n\")\n",
    "\n",
    "    time.sleep(5)\n",
    "    driver.find_element(By.XPATH,'/html/body/div[1]/div/div[1]/div/div/div/div/div/div/p/app-root/div/app-list/div[1]/div[2]/mat-paginator/div/div[2]/button[2]').click()\n",
    "\n",
    "        "
   ]
  },
  {
   "cell_type": "code",
   "execution_count": null,
   "metadata": {},
   "outputs": [
    {
     "name": "stdout",
     "output_type": "stream",
     "text": [
      "  Nom     Prix\n",
      "0      € 8 480\n"
     ]
    }
   ],
   "source": [
    "df = pd.DataFrame({'Nom': nom, 'Prix': prix})\n",
    "df.to_csv('voiture.csv', index=False, encoding='utf-8')\n",
    "print(df)"
   ]
  },
  {
   "cell_type": "code",
   "execution_count": null,
   "metadata": {},
   "outputs": [],
   "source": [
    "driver.close()"
   ]
  },
  {
   "cell_type": "code",
   "execution_count": null,
   "metadata": {},
   "outputs": [],
   "source": [
    "driver.quit()"
   ]
  }
 ],
 "metadata": {
  "kernelspec": {
   "display_name": "Python 3.11.0 64-bit",
   "language": "python",
   "name": "python3"
  },
  "language_info": {
   "codemirror_mode": {
    "name": "ipython",
    "version": 3
   },
   "file_extension": ".py",
   "mimetype": "text/x-python",
   "name": "python",
   "nbconvert_exporter": "python",
   "pygments_lexer": "ipython3",
   "version": "3.11.0"
  },
  "orig_nbformat": 4,
  "vscode": {
   "interpreter": {
    "hash": "aee8b7b246df8f9039afb4144a1f6fd8d2ca17a180786b69acc140d282b71a49"
   }
  }
 },
 "nbformat": 4,
 "nbformat_minor": 2
}
