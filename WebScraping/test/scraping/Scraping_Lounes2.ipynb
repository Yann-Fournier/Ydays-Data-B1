{
 "cells": [
  {
   "cell_type": "code",
   "execution_count": 4,
   "metadata": {},
   "outputs": [],
   "source": [
    "from selenium import webdriver\n",
    "from selenium.webdriver.common.by import By\n",
    "from selenium.webdriver.chrome.options import Options\n",
    "import time"
   ]
  },
  {
   "cell_type": "code",
   "execution_count": 5,
   "metadata": {},
   "outputs": [
    {
     "name": "stderr",
     "output_type": "stream",
     "text": [
      "/var/folders/1_/54_5j3cn25jd5mt0cyzggqj80000gn/T/ipykernel_17618/2086484492.py:5: DeprecationWarning: executable_path has been deprecated, please pass in a Service object\n",
      "  driver = webdriver.Chrome(DRIVER_PATH, options=chrome_options)\n"
     ]
    }
   ],
   "source": [
    "chrome_options = Options() \n",
    "chrome_options.add_experimental_option(\"detach\", True)\n",
    "\n",
    "DRIVER_PATH = \"./chromedriver\"\n",
    "driver = webdriver.Chrome(DRIVER_PATH, options=chrome_options)\n",
    "driver.implicitly_wait(10)"
   ]
  },
  {
   "cell_type": "code",
   "execution_count": 6,
   "metadata": {},
   "outputs": [
    {
     "name": "stdout",
     "output_type": "stream",
     "text": [
      "['Essence', '2019 | 20 500 km', 'Diesel', '2014 | 115 700 km', 'Essence', '2020 | 20 500 km', 'Diesel', '2019 | 53 600 km', 'Essence', '2018 | 12 000 km', 'Diesel', '2019 | 32 000 km', 'Essence', '2019 | 27 300 km', 'Essence', '2022 | 6 000 km', 'Essence', '2021 | 5 500 km', 'Essence', '2019 | 59 600 km', 'Essence', '2020 | 58 600 km', 'Essence', '2019 | 15 000 km']\n"
     ]
    }
   ],
   "source": [
    "element_list = []\n",
    "for page in range(0, 1):\n",
    "    page_url = \"https://www.alvergnas.com/trouver-un-vehicule/#!/vehicle?pg=\" + str(page)\n",
    "    driver.get(page_url)\n",
    "    time.sleep(1)\n",
    "    title = driver.find_elements(By.CLASS_NAME, 'card_title')\n",
    "    price = driver.find_elements(By.CLASS_NAME,'price')\n",
    "    details = [ t.text for t in driver.find_elements(By.CLASS_NAME, 'details')]\n",
    "    print(details)"
   ]
  },
  {
   "cell_type": "code",
   "execution_count": null,
   "metadata": {},
   "outputs": [],
   "source": []
  },
  {
   "cell_type": "code",
   "execution_count": 7,
   "metadata": {},
   "outputs": [
    {
     "name": "stdout",
     "output_type": "stream",
     "text": [
      "[['SMART FORTWO', ['€ 19 880']], ['RENAULT CLIO', ['€ 8 280']], ['RENAULT CLIO', ['€ 19 480']], ['AUDI A3', ['€ 31 890']], ['MERCEDES CLASSE A', ['€ 32 480']], ['MERCEDES CLA', ['€ 34 880']], ['HYUNDAI TUCSON', ['€ 22 480']], ['DS DS3 CROSSBACK', ['€ 29 480']], ['CITROEN C4', ['€ 26 480']], ['DS DS7 CROSSBACK', ['€ 30 880']], ['DS DS7 CROSSBACK', ['€ 30 880']], ['CITROEN C4 SPACETOURER', ['€ 22 480']]]\n"
     ]
    }
   ],
   "source": [
    "for i in range(len(title)):\n",
    "        element_list.append([title[i].text,price[i].text.split(\"\\n\")])\n",
    "\n",
    "print(element_list)"
   ]
  }
 ],
 "metadata": {
  "kernelspec": {
   "display_name": "Python 3.11.0 64-bit",
   "language": "python",
   "name": "python3"
  },
  "language_info": {
   "codemirror_mode": {
    "name": "ipython",
    "version": 3
   },
   "file_extension": ".py",
   "mimetype": "text/x-python",
   "name": "python",
   "nbconvert_exporter": "python",
   "pygments_lexer": "ipython3",
   "version": "3.11.0 (v3.11.0:deaf509e8f, Oct 24 2022, 14:43:23) [Clang 13.0.0 (clang-1300.0.29.30)]"
  },
  "orig_nbformat": 4,
  "vscode": {
   "interpreter": {
    "hash": "aee8b7b246df8f9039afb4144a1f6fd8d2ca17a180786b69acc140d282b71a49"
   }
  }
 },
 "nbformat": 4,
 "nbformat_minor": 2
}
