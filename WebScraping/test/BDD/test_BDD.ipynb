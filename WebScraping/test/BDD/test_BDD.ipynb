{
 "cells": [
  {
   "cell_type": "code",
   "execution_count": 44,
   "metadata": {},
   "outputs": [],
   "source": [
    "import sqlite3\n",
    "\n",
    "# Tableplus\n",
    "# "
   ]
  },
  {
   "cell_type": "code",
   "execution_count": 45,
   "metadata": {},
   "outputs": [],
   "source": [
    "# Connection à une base de données\n",
    "conn = sqlite3.connect('ma_base.db')"
   ]
  },
  {
   "cell_type": "code",
   "execution_count": 46,
   "metadata": {},
   "outputs": [
    {
     "data": {
      "text/plain": [
       "<sqlite3.Cursor at 0x10f8ff6c0>"
      ]
     },
     "execution_count": 46,
     "metadata": {},
     "output_type": "execute_result"
    }
   ],
   "source": [
    "# Creer une table\n",
    "\n",
    "cursor = conn.cursor()\n",
    "cursor.execute(\"\"\"\n",
    "CREATE TABLE IF NOT EXISTS users(\n",
    "     id INTEGER PRIMARY KEY AUTOINCREMENT UNIQUE,\n",
    "     nom TEXT,\n",
    "     age INTERGER\n",
    ")\n",
    "\"\"\")\n",
    "#conn.commit()"
   ]
  },
  {
   "cell_type": "code",
   "execution_count": 47,
   "metadata": {},
   "outputs": [
    {
     "ename": "OperationalError",
     "evalue": "database is locked",
     "output_type": "error",
     "traceback": [
      "\u001b[0;31m---------------------------------------------------------------------------\u001b[0m",
      "\u001b[0;31mOperationalError\u001b[0m                          Traceback (most recent call last)",
      "Cell \u001b[0;32mIn [47], line 2\u001b[0m\n\u001b[1;32m      1\u001b[0m \u001b[39m# Inserer des données\u001b[39;00m\n\u001b[0;32m----> 2\u001b[0m cursor\u001b[39m.\u001b[39;49mexecute(\u001b[39m\"\"\"\u001b[39;49m\u001b[39mINSERT INTO users(nom, age) VALUES(?, ?)\u001b[39;49m\u001b[39m\"\"\"\u001b[39;49m, (\u001b[39m\"\u001b[39;49m\u001b[39molivier\u001b[39;49m\u001b[39m\"\u001b[39;49m, \u001b[39m30\u001b[39;49m))\n\u001b[1;32m      5\u001b[0m \u001b[39m# Recuperer l'id de la donnée que je viens de rentrée\u001b[39;00m\n\u001b[1;32m      6\u001b[0m \u001b[39mid\u001b[39m \u001b[39m=\u001b[39m cursor\u001b[39m.\u001b[39mlastrowid\n",
      "\u001b[0;31mOperationalError\u001b[0m: database is locked"
     ]
    }
   ],
   "source": [
    "# Inserer des données\n",
    "cursor.execute(\"\"\"INSERT INTO users(nom, age) VALUES(?, ?)\"\"\", (\"olivier\", 30))\n",
    "\n",
    "\n",
    "# Recuperer l'id de la donnée que je viens de rentrée\n",
    "id = cursor.lastrowid\n",
    "print('dernier id: %d' % id)"
   ]
  },
  {
   "cell_type": "code",
   "execution_count": null,
   "metadata": {},
   "outputs": [
    {
     "name": "stdout",
     "output_type": "stream",
     "text": [
      "(1, 'olivier', 30)\n",
      "(2, 'olivier', 30)\n",
      "(3, 'olivier', 30)\n",
      "(4, 'olivier', 30)\n",
      "(5, 'olivier', 30)\n",
      "(6, 'olivier', 30)\n",
      "(7, 'olivier', 30)\n",
      "(8, 'olivier', 30)\n"
     ]
    }
   ],
   "source": [
    "# Afficher la bdd avec des tuples\n",
    "\n",
    "#conn.commit()\n",
    "cursor.execute(\"SELECT * FROM users\")\n",
    "for row in cursor:\n",
    "     print(row)"
   ]
  },
  {
   "cell_type": "code",
   "execution_count": null,
   "metadata": {},
   "outputs": [
    {
     "ename": "OperationalError",
     "evalue": "near \"%\": syntax error",
     "output_type": "error",
     "traceback": [
      "\u001b[0;31m---------------------------------------------------------------------------\u001b[0m",
      "\u001b[0;31mOperationalError\u001b[0m                          Traceback (most recent call last)",
      "Cell \u001b[0;32mIn [43], line 2\u001b[0m\n\u001b[1;32m      1\u001b[0m \u001b[39m# Nettoyer la bdd : Compter le nbr d'occurence et en delete n-1\u001b[39;00m\n\u001b[0;32m----> 2\u001b[0m cursor\u001b[39m.\u001b[39;49mexecute(\u001b[39m\"\u001b[39;49m\u001b[39mSELECT COUNT(*) FROM users WHERE nom= \u001b[39;49m\u001b[39m%s\u001b[39;49;00m\u001b[39m AND age = \u001b[39;49m\u001b[39m%s\u001b[39;49;00m\u001b[39m\"\u001b[39;49m, (\u001b[39m\"\u001b[39;49m\u001b[39molivier\u001b[39;49m\u001b[39m\"\u001b[39;49m, \u001b[39m30\u001b[39;49m))\n\u001b[1;32m      3\u001b[0m \u001b[39m#cursor.execute(\"SELECT*FROM EMPLOYEE WHERE first_name = %s AND last_name = %s\", (employee['firstname'],employee['lastname']))\u001b[39;00m\n\u001b[1;32m      4\u001b[0m \u001b[39m#cursor.fetchone()[0]\u001b[39;00m\n\u001b[1;32m      5\u001b[0m \u001b[39mprint\u001b[39m(row)\n",
      "\u001b[0;31mOperationalError\u001b[0m: near \"%\": syntax error"
     ]
    }
   ],
   "source": [
    "# Nettoyer la bdd : Compter le nbr d'occurence et en delete n-1\n",
    "cursor.execute(\"SELECT COUNT(*) FROM users WHERE nom= %s AND age = %s\", ('olivier', 30))\n",
    "#cursor.execute(\"SELECT*FROM EMPLOYEE WHERE first_name = %s AND last_name = %s\", (employee['firstname'],employee['lastname']))\n",
    "#cursor.fetchone()[0]\n",
    "print(row)\n",
    "\n",
    "#rowsQuery = \"SELECT Co() FROM user\"\n",
    "#cursor.execute(rowsQuery)\n",
    "#numberOfRows = cursor.fetchone()[0]"
   ]
  },
  {
   "cell_type": "code",
   "execution_count": null,
   "metadata": {},
   "outputs": [],
   "source": [
    "# Recuperer les donnée\n",
    "# cursor.execute(\"\"\"SELECT name, age FROM users\"\"\")\n",
    "# user1 = cursor.fetchone()\n",
    "# print(user1)\n",
    "\n",
    "conn.commit()\n",
    "conn.close()"
   ]
  }
 ],
 "metadata": {
  "kernelspec": {
   "display_name": "Python 3.11.0 64-bit",
   "language": "python",
   "name": "python3"
  },
  "language_info": {
   "codemirror_mode": {
    "name": "ipython",
    "version": 3
   },
   "file_extension": ".py",
   "mimetype": "text/x-python",
   "name": "python",
   "nbconvert_exporter": "python",
   "pygments_lexer": "ipython3",
   "version": "3.11.0 (v3.11.0:deaf509e8f, Oct 24 2022, 14:43:23) [Clang 13.0.0 (clang-1300.0.29.30)]"
  },
  "orig_nbformat": 4,
  "vscode": {
   "interpreter": {
    "hash": "aee8b7b246df8f9039afb4144a1f6fd8d2ca17a180786b69acc140d282b71a49"
   }
  }
 },
 "nbformat": 4,
 "nbformat_minor": 2
}
